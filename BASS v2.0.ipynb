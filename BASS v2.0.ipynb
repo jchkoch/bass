{
 "cells": [
  {
   "cell_type": "markdown",
   "metadata": {},
   "source": [
    "# Welcome to BASS!"
   ]
  },
  {
   "cell_type": "markdown",
   "metadata": {},
   "source": [
    "Version: Beta 2.0\n",
    "\n",
    "Created by Abigail Dobyns and Ryan Thorpe"
   ]
  },
  {
   "cell_type": "markdown",
   "metadata": {},
   "source": [
    "    BASS: Biomedical Analysis Software Suite for event detection and signal processing.\n",
    "    Copyright (C) 2015  Abigail Dobyns\n",
    "\n",
    "    This program is free software: you can redistribute it and/or modify\n",
    "    it under the terms of the GNU General Public License as published by\n",
    "    the Free Software Foundation, either version 3 of the License, or\n",
    "    (at your option) any later version.\n",
    "\n",
    "    This program is distributed in the hope that it will be useful,\n",
    "    but WITHOUT ANY WARRANTY; without even the implied warranty of\n",
    "    MERCHANTABILITY or FITNESS FOR A PARTICULAR PURPOSE.  See the\n",
    "    GNU General Public License for more details.\n",
    "\n",
    "    You should have received a copy of the GNU General Public License\n",
    "    along with this program.  If not, see <http://www.gnu.org/licenses/>"
   ]
  },
  {
   "cell_type": "markdown",
   "metadata": {},
   "source": [
    "## Initalize"
   ]
  },
  {
   "cell_type": "markdown",
   "metadata": {},
   "source": [
    "Run the following code block to intialize the program.\n",
    "\n",
    "*run this block* **one** *time*"
   ]
  },
  {
   "cell_type": "code",
   "execution_count": 1,
   "metadata": {},
   "outputs": [
    {
     "ename": "ImportError",
     "evalue": "No module named BASS",
     "output_type": "error",
     "traceback": [
      "\u001b[1;31m---------------------------------------------------------------------------\u001b[0m",
      "\u001b[1;31mImportError\u001b[0m                               Traceback (most recent call last)",
      "\u001b[1;32m<ipython-input-1-7657dcebebbc>\u001b[0m in \u001b[0;36m<module>\u001b[1;34m()\u001b[0m\n\u001b[1;32m----> 1\u001b[1;33m \u001b[1;32mfrom\u001b[0m \u001b[0mBASS\u001b[0m \u001b[1;32mimport\u001b[0m \u001b[1;33m*\u001b[0m\u001b[1;33m\u001b[0m\u001b[0m\n\u001b[0m",
      "\u001b[1;31mImportError\u001b[0m: No module named BASS"
     ]
    }
   ],
   "source": [
    "from BASS import *"
   ]
  },
  {
   "cell_type": "markdown",
   "metadata": {},
   "source": [
    "# Instructions\n",
    "\n",
    "For help, check out the wiki: [Protocol](https://github.com/drcgw/bass/wiki/Single-Wave-Interactive-Protocol)\n",
    "\n",
    "Or the video tutorial: Coming Soon!\n",
    "\n",
    "## 1) Load Data File(s)\n",
    "\n",
    "Use the following block to create a BASS_Dataset object and initialize your settings. All settings are attributes of the dataset instance. **Manual initialization of settings in this block is optional and is required only once for a given batch. All BASS_Dataset objects that are initialized are automatically added to the batch.** \n",
    "    \n",
    "    class BASS_Dataset(inputDir, fileName, outputDir, fileType='plain', timeScale='seconds')\n",
    "    \n",
    "        Attributes:\n",
    "        \n",
    "            Batch: static list\n",
    "                Contains all instances of the BASS_Dataset object in order to be referenced by the global runBatch function.\n",
    "            Data: library\n",
    "                instance data\n",
    "            Settings: library\n",
    "                instance settings\n",
    "            Results: library\n",
    "                instance results\n",
    "        \n",
    "        Methods:\n",
    "        \n",
    "            run_analysis(settings = self.Settings, analysis_module): BASS_Dataset method\n",
    "                Highest level of the object-oriented analysis pipeline. First syncs the settings of all BASS_Dataset objects \n",
    "                (stored in Batch), then runs the specified analysis module on each one.\n",
    "                            \n",
    "Analysis must be called after the object is initialize and Settings added if the Settings are to be added manually (not via the interactive check and load settings function). Analysis runs according to batch-oriented protocol and is specific to the analysis module determined by the \"analysis_module\" parameter.\n",
    "\n",
    "\n",
    "## 2) Run Analysis\n",
    "\n",
    "Run\n",
    "    BASS_Dataset.run_analysis(analysis_mod, settings, batch)\n",
    "    \n",
    "Runs in either single (batch=False) or batch mode. Assuming batch mode, this function first syncs settings of each dataset within Bass_Dataset.Batch to the entered parameter \"settings\", then runs analysis on each instance within Batch. Be sure to select the correct module given your desired type of analysis. The current options (as of 9/21/16) are \"ekg\" and \"pleth\". Parameters are as follows:\n",
    "\n",
    "        Parameters:\n",
    "            analysis_mod: string\n",
    "                the name of the BASS_Dataset module which will be used to analyze the batch of datasets\n",
    "            settings: string or dictionary\n",
    "                can be entered as the location of a settings file or the actual settings dictionary (default = self.Settings)\n",
    "            batch: boolean\n",
    "                determines if the analysis is performed on only the self-instance or as a batch on all object instances \n",
    "                (default=True)\n",
    "                \n",
    "\n",
    "## More Info on Settings\n",
    "\n",
    "For more information about other settings, go to: \n",
    "\n",
    "[Transforming Data](https://github.com/drcgw/bass/wiki/Single-Wave-Interactive-Protocol#enter-your-settings-for-data-transformation)\n",
    "\n",
    "[Baseline Settings](https://github.com/drcgw/bass/wiki/Single-Wave-Interactive-Protocol#set-baseline-for-thresholding)\n",
    "\n",
    "[Peak Detection Settings](https://github.com/drcgw/bass/wiki/Single-Wave-Interactive-Protocol#peak-detection-settings)\n",
    "\n",
    "[Burst Detection Settings](https://github.com/drcgw/bass/wiki/Single-Wave-Interactive-Protocol#enter-burst-settings)"
   ]
  },
  {
   "cell_type": "code",
   "execution_count": 2,
   "metadata": {
    "scrolled": true
   },
   "outputs": [
    {
     "name": "stdout",
     "output_type": "stream",
     "text": [
      "\n",
      "############    2016-06-22_C1a_P3_Base.txt    ############\n",
      "\n",
      "Made plots folder\n",
      "Data Loaded\n",
      "Rounded Sampling Rate (s/frame): 0.001\n",
      "2016-06-22_C1a_P3_Base.txt is 301.899 seconds long.\n",
      "\n",
      "############    2016-06-26_C1a_P7_Base.txt    ############\n",
      "\n",
      "Made plots folder\n",
      "Data Loaded\n",
      "Rounded Sampling Rate (s/frame): 0.001\n",
      "2016-06-26_C1a_P7_Base.txt is 316.549 seconds long.\n",
      "All primary-analysis settings have been initialized\n",
      "Transformation completed\n",
      "Baseline set completed\n",
      "Peak Detection completed\n",
      "Burst Detection completed\n",
      "Analysis Complete:  12.6835  Seconds\n",
      "\n",
      "--------------------------------------------\n",
      "Data Column Names/Keys\n",
      "-----\n",
      "2016-06-22_C1a_P3_Base.txt\n",
      "\n",
      "--------------------------------------------\n",
      "Available Measurements from Peaks for further analysis:\n",
      "-----\n",
      "Peaks Amplitude\n",
      "Intervals\n",
      "\n",
      "--------------------------------------------\n",
      "Available Measurements from Bursts for further analysis:\n",
      "-----\n",
      "Burst Start\n",
      "Burst End\n",
      "Burst Duration\n",
      "Burst Start Amplitude\n",
      "Burst End Amplitude\n",
      "Edge Event\n",
      "Interburst Interval\n",
      "Total Cycle Time\n",
      "Peaks per Burst\n",
      "Peak Amp\n",
      "Peak Time\n",
      "Attack\n",
      "Decay\n",
      "Intraburst Frequency\n",
      "Burst Area\n",
      "\n",
      "---------------------------\n",
      "|Event Detection Complete!|\n",
      "---------------------------\n",
      "Do you wish to re-run peak and burst detection? (y/n) n\n",
      "All Bursts measurements analyzed.\n",
      "Total Cycle Time Count\n",
      "     2016-06-22_C1a_P3_Base.txt\n",
      "0                           0.0\n",
      "30                          0.0\n",
      "60                          0.0\n",
      "90                          0.0\n",
      "120                         0.0\n",
      "150                         0.0\n",
      "180                         0.0\n",
      "210                         0.0\n",
      "240                         0.0\n",
      "270                         0.0\n",
      "300                        42.0\n",
      "330                        57.0\n",
      "360                        49.0\n",
      "390                        45.0\n",
      "420                        51.0\n",
      "450                        49.0\n",
      "480                        42.0\n",
      "510                        47.0\n",
      "540                        46.0\n",
      "Total Cycle Time Mean\n",
      "     2016-06-22_C1a_P3_Base.txt\n",
      "0                      0.000000\n",
      "30                     0.000000\n",
      "60                     0.000000\n",
      "90                     0.000000\n",
      "120                    0.000000\n",
      "150                    0.000000\n",
      "180                    0.000000\n",
      "210                    0.000000\n",
      "240                    0.000000\n",
      "270                    0.000000\n",
      "300                    0.171429\n",
      "330                    0.201544\n",
      "360                    0.169796\n",
      "390                    0.212356\n",
      "420                    0.205353\n",
      "450                    0.175429\n",
      "480                    0.177571\n",
      "510                    0.203830\n",
      "540                    0.200043\n",
      "Total Cycle Time Std\n",
      "     2016-06-22_C1a_P3_Base.txt\n",
      "0                      0.000000\n",
      "30                     0.000000\n",
      "60                     0.000000\n",
      "90                     0.000000\n",
      "120                    0.000000\n",
      "150                    0.000000\n",
      "180                    0.000000\n",
      "210                    0.000000\n",
      "240                    0.000000\n",
      "270                    0.000000\n",
      "300                    0.112276\n",
      "330                    0.129965\n",
      "360                    0.093723\n",
      "390                    0.127654\n",
      "420                    0.121268\n",
      "450                    0.079636\n",
      "480                    0.100484\n",
      "510                    0.111712\n",
      "540                    0.115639\n",
      "Pleth Analysis Complete: 11.2652 sec\n"
     ]
    }
   ],
   "source": [
    "#Import and Initialize\n",
    "#Class BASS_Dataset(inputDir, fileName, outputDir, fileType='plain', timeScale='seconds')\n",
    "data1 = BASS_Dataset('C:\\\\Users\\\\Ryan\\\\Desktop\\\\sample_data\\\\','2016-06-22_C1a_P3_Base.txt','C:\\\\Users\\\\Ryan\\\\Desktop\\\\bass_output\\\\pleth')\n",
    "data2 = BASS_Dataset('C:\\\\Users\\\\Ryan\\\\Desktop\\\\sample_data\\\\','2016-06-26_C1a_P7_Base.txt','C:\\\\Users\\\\Ryan\\\\Desktop\\\\bass_output\\\\pleth')\n",
    "    \n",
    "#transformation Settings\n",
    "data1.Settings['Absolute Value'] = False #Must be True if Savitzky-Golay is being used\n",
    "\n",
    "data1.Settings['Bandpass Highcut'] = 12 #in Hz\n",
    "data1.Settings['Bandpass Lowcut'] = 1 #in Hz\n",
    "data1.Settings['Bandpass Polynomial'] = 1 #integer\n",
    "\n",
    "data1.Settings['Linear Fit'] = False #between 0 and 1 on the whole time series\n",
    "data1.Settings['Linear Fit-Rolling R'] = 0.5 #between 0 and 1\n",
    "data1.Settings['Linear Fit-Rolling Window'] = 1000 #window for rolling mean for fit, unit is index not time\n",
    "data1.Settings['Relative Baseline'] = 0 #default 0, unless data is normalized, then 1.0. Can be any float\n",
    "\n",
    "data1.Settings['Savitzky-Golay Polynomial'] = 'none' #integer\n",
    "data1.Settings['Savitzky-Golay Window Size'] = 'none' #must be odd. units are index not time\n",
    "\n",
    "#Baseline Settings\n",
    "data1.Settings['Baseline Type'] = r'rolling' #'linear', 'rolling', or 'static'\n",
    "#For Linear\n",
    "data1.Settings['Baseline Start'] = None #start time in seconds\n",
    "data1.Settings['Baseline Stop'] = None #end time in seconds\n",
    "#For Rolling\n",
    "data1.Settings['Rolling Baseline Window'] = 5 # in seconds. leave as 'none' if linear or static\n",
    "\n",
    "#Peaks\n",
    "data1.Settings['Delta'] = 0.05\n",
    "data1.Settings['Peak Minimum'] = -0.50 #amplitude value\n",
    "data1.Settings['Peak Maximum'] = 0.50 #amplitude value\n",
    "\n",
    "#Bursts\n",
    "data1.Settings['Apnea Factor'] = 2 #factor to define apneas as a function of expiration\n",
    "data1.Settings['Burst Area'] = True #calculate burst area\n",
    "data1.Settings['Exclude Edges'] = True #False to keep edges, True to discard them\n",
    "data1.Settings['Inter-event interval minimum (time-scale units)'] = 0.0001 #only for bursts, not for peaks\n",
    "data1.Settings['Maximum Burst Duration (time-scale units)'] = 6\n",
    "data1.Settings['Minimum Burst Duration (time-scale units)'] = 0.0001\n",
    "data1.Settings['Minimum Peak Number'] = 1 #minimum number of peaks/burst, integer\n",
    "data1.Settings['Threshold']= 0.0001 #linear: proportion of baseline. \n",
    "                              #static: literal value.\n",
    "                              #rolling, linear ammount grater than rolling baseline at each time point.\n",
    "\n",
    "#Outputs\n",
    "data1.Settings['Generate Graphs'] = False #create and save the fancy graph outputs\n",
    "\n",
    "#Settings that you should not change unless you are a super advanced user:\n",
    "#These are settings that are still in development\n",
    "data1.Settings['Graph LCpro events'] = False\n",
    "############################################################################################\n",
    "data1.run_analysis('pleth', batch=False)"
   ]
  },
  {
   "cell_type": "markdown",
   "metadata": {},
   "source": [
    "#OPTIONAL GRAPHS AND ANALYSIS\n",
    "\n",
    "The following blocks are optional calls to other figures and analysis"
   ]
  },
  {
   "cell_type": "markdown",
   "metadata": {},
   "source": [
    "## Display Event Detection Tables\n",
    "#### Display Settings used for analysis"
   ]
  },
  {
   "cell_type": "code",
   "execution_count": 243,
   "metadata": {
    "collapsed": true
   },
   "outputs": [
    {
     "data": {
      "text/html": [
       "<div>\n",
       "<table border=\"1\" class=\"dataframe\">\n",
       "  <thead>\n",
       "    <tr style=\"text-align: right;\">\n",
       "      <th></th>\n",
       "      <th>Value</th>\n",
       "    </tr>\n",
       "  </thead>\n",
       "  <tbody>\n",
       "    <tr>\n",
       "      <th>Absolute Value</th>\n",
       "      <td>False</td>\n",
       "    </tr>\n",
       "    <tr>\n",
       "      <th>Apnea Factor</th>\n",
       "      <td>2</td>\n",
       "    </tr>\n",
       "    <tr>\n",
       "      <th>Bandpass Highcut</th>\n",
       "      <td>False</td>\n",
       "    </tr>\n",
       "    <tr>\n",
       "      <th>Bandpass Lowcut</th>\n",
       "      <td>False</td>\n",
       "    </tr>\n",
       "    <tr>\n",
       "      <th>Bandpass Polynomial</th>\n",
       "      <td>False</td>\n",
       "    </tr>\n",
       "    <tr>\n",
       "      <th>Baseline Start</th>\n",
       "      <td>0</td>\n",
       "    </tr>\n",
       "    <tr>\n",
       "      <th>Baseline Stop</th>\n",
       "      <td>1</td>\n",
       "    </tr>\n",
       "    <tr>\n",
       "      <th>Baseline Type</th>\n",
       "      <td>rolling</td>\n",
       "    </tr>\n",
       "    <tr>\n",
       "      <th>Burst Area</th>\n",
       "      <td>True</td>\n",
       "    </tr>\n",
       "    <tr>\n",
       "      <th>Delta</th>\n",
       "      <td>0.15</td>\n",
       "    </tr>\n",
       "    <tr>\n",
       "      <th>Exclude Edges</th>\n",
       "      <td>True</td>\n",
       "    </tr>\n",
       "    <tr>\n",
       "      <th>File Type</th>\n",
       "      <td>Plain</td>\n",
       "    </tr>\n",
       "    <tr>\n",
       "      <th>Generate Graphs</th>\n",
       "      <td>False</td>\n",
       "    </tr>\n",
       "    <tr>\n",
       "      <th>Graph LCpro events</th>\n",
       "      <td>False</td>\n",
       "    </tr>\n",
       "    <tr>\n",
       "      <th>Inter-event interval minimum (seconds)</th>\n",
       "      <td>0.01</td>\n",
       "    </tr>\n",
       "    <tr>\n",
       "      <th>Label</th>\n",
       "      <td>2015-08-06-rat7-pleth-24hrsPostIPSel3.txt</td>\n",
       "    </tr>\n",
       "    <tr>\n",
       "      <th>Linear Fit</th>\n",
       "      <td>False</td>\n",
       "    </tr>\n",
       "    <tr>\n",
       "      <th>Linear Fit-Rolling R</th>\n",
       "      <td>0.75</td>\n",
       "    </tr>\n",
       "    <tr>\n",
       "      <th>Linear Fit-Rolling Window</th>\n",
       "      <td>1000</td>\n",
       "    </tr>\n",
       "    <tr>\n",
       "      <th>Maximum Burst Duration (s)</th>\n",
       "      <td>0.5</td>\n",
       "    </tr>\n",
       "    <tr>\n",
       "      <th>Milliseconds</th>\n",
       "      <td>False</td>\n",
       "    </tr>\n",
       "    <tr>\n",
       "      <th>Minimum Burst Duration (s)</th>\n",
       "      <td>0.01</td>\n",
       "    </tr>\n",
       "    <tr>\n",
       "      <th>Minimum Peak Number</th>\n",
       "      <td>1</td>\n",
       "    </tr>\n",
       "    <tr>\n",
       "      <th>Output Folder</th>\n",
       "      <td>C:\\Users\\smurray\\Desktop\\Pleth Data Lab Chart\\...</td>\n",
       "    </tr>\n",
       "    <tr>\n",
       "      <th>Peak Maximum</th>\n",
       "      <td>-0.4</td>\n",
       "    </tr>\n",
       "    <tr>\n",
       "      <th>Peak Minimum</th>\n",
       "      <td>-1.5</td>\n",
       "    </tr>\n",
       "    <tr>\n",
       "      <th>Relative Baseline</th>\n",
       "      <td>0</td>\n",
       "    </tr>\n",
       "    <tr>\n",
       "      <th>Rolling Baseline Window</th>\n",
       "      <td>2.5</td>\n",
       "    </tr>\n",
       "    <tr>\n",
       "      <th>Sample Rate (s/frame)</th>\n",
       "      <td>0.00025</td>\n",
       "    </tr>\n",
       "    <tr>\n",
       "      <th>Savitzky-Golay Polynomial</th>\n",
       "      <td>none</td>\n",
       "    </tr>\n",
       "    <tr>\n",
       "      <th>Savitzky-Golay Window Size</th>\n",
       "      <td>none</td>\n",
       "    </tr>\n",
       "    <tr>\n",
       "      <th>Threshold</th>\n",
       "      <td>0.01</td>\n",
       "    </tr>\n",
       "    <tr>\n",
       "      <th>folder</th>\n",
       "      <td>C:\\Users\\smurray\\Desktop\\Pleth Data Lab Chart\\...</td>\n",
       "    </tr>\n",
       "    <tr>\n",
       "      <th>plots folder</th>\n",
       "      <td>C:\\Users\\smurray\\Desktop\\Pleth Data Lab Chart\\...</td>\n",
       "    </tr>\n",
       "  </tbody>\n",
       "</table>\n",
       "</div>"
      ],
      "text/plain": [
       "                                                                                    Value\n",
       "Absolute Value                                                                      False\n",
       "Apnea Factor                                                                            2\n",
       "Bandpass Highcut                                                                    False\n",
       "Bandpass Lowcut                                                                     False\n",
       "Bandpass Polynomial                                                                 False\n",
       "Baseline Start                                                                          0\n",
       "Baseline Stop                                                                           1\n",
       "Baseline Type                                                                     rolling\n",
       "Burst Area                                                                           True\n",
       "Delta                                                                                0.15\n",
       "Exclude Edges                                                                        True\n",
       "File Type                                                                           Plain\n",
       "Generate Graphs                                                                     False\n",
       "Graph LCpro events                                                                  False\n",
       "Inter-event interval minimum (seconds)                                               0.01\n",
       "Label                                           2015-08-06-rat7-pleth-24hrsPostIPSel3.txt\n",
       "Linear Fit                                                                          False\n",
       "Linear Fit-Rolling R                                                                 0.75\n",
       "Linear Fit-Rolling Window                                                            1000\n",
       "Maximum Burst Duration (s)                                                            0.5\n",
       "Milliseconds                                                                        False\n",
       "Minimum Burst Duration (s)                                                           0.01\n",
       "Minimum Peak Number                                                                     1\n",
       "Output Folder                           C:\\Users\\smurray\\Desktop\\Pleth Data Lab Chart\\...\n",
       "Peak Maximum                                                                         -0.4\n",
       "Peak Minimum                                                                         -1.5\n",
       "Relative Baseline                                                                       0\n",
       "Rolling Baseline Window                                                               2.5\n",
       "Sample Rate (s/frame)                                                             0.00025\n",
       "Savitzky-Golay Polynomial                                                            none\n",
       "Savitzky-Golay Window Size                                                           none\n",
       "Threshold                                                                            0.01\n",
       "folder                                  C:\\Users\\smurray\\Desktop\\Pleth Data Lab Chart\\...\n",
       "plots folder                            C:\\Users\\smurray\\Desktop\\Pleth Data Lab Chart\\..."
      ]
     },
     "execution_count": 243,
     "metadata": {},
     "output_type": "execute_result"
    }
   ],
   "source": [
    "display_settings(Settings)"
   ]
  },
  {
   "cell_type": "markdown",
   "metadata": {},
   "source": [
    "#### Display Summary Results for Peaks"
   ]
  },
  {
   "cell_type": "code",
   "execution_count": 3,
   "metadata": {
    "collapsed": true
   },
   "outputs": [
    {
     "data": {
      "text/html": [
       "<div>\n",
       "<table border=\"1\" class=\"dataframe\">\n",
       "  <thead>\n",
       "    <tr style=\"text-align: right;\">\n",
       "      <th></th>\n",
       "      <th></th>\n",
       "      <th>Peaks Amplitude</th>\n",
       "      <th>Intervals</th>\n",
       "    </tr>\n",
       "  </thead>\n",
       "  <tbody>\n",
       "    <tr>\n",
       "      <th rowspan=\"8\" valign=\"top\">2016-2-10-mouse4-metformin-group1.txt</th>\n",
       "      <th>count</th>\n",
       "      <td>2912.000000</td>\n",
       "      <td>2911.000000</td>\n",
       "    </tr>\n",
       "    <tr>\n",
       "      <th>mean</th>\n",
       "      <td>0.676046</td>\n",
       "      <td>0.320196</td>\n",
       "    </tr>\n",
       "    <tr>\n",
       "      <th>std</th>\n",
       "      <td>0.072286</td>\n",
       "      <td>0.208912</td>\n",
       "    </tr>\n",
       "    <tr>\n",
       "      <th>min</th>\n",
       "      <td>0.511200</td>\n",
       "      <td>0.080000</td>\n",
       "    </tr>\n",
       "    <tr>\n",
       "      <th>25%</th>\n",
       "      <td>0.632125</td>\n",
       "      <td>0.167000</td>\n",
       "    </tr>\n",
       "    <tr>\n",
       "      <th>50%</th>\n",
       "      <td>0.656400</td>\n",
       "      <td>0.288000</td>\n",
       "    </tr>\n",
       "    <tr>\n",
       "      <th>75%</th>\n",
       "      <td>0.704300</td>\n",
       "      <td>0.406500</td>\n",
       "    </tr>\n",
       "    <tr>\n",
       "      <th>max</th>\n",
       "      <td>1.036000</td>\n",
       "      <td>1.866000</td>\n",
       "    </tr>\n",
       "  </tbody>\n",
       "</table>\n",
       "</div>"
      ],
      "text/plain": [
       "                                             Peaks Amplitude    Intervals\n",
       "2016-2-10-mouse4-metformin-group1.txt count      2912.000000  2911.000000\n",
       "                                      mean          0.676046     0.320196\n",
       "                                      std           0.072286     0.208912\n",
       "                                      min           0.511200     0.080000\n",
       "                                      25%           0.632125     0.167000\n",
       "                                      50%           0.656400     0.288000\n",
       "                                      75%           0.704300     0.406500\n",
       "                                      max           1.036000     1.866000"
      ]
     },
     "execution_count": 3,
     "metadata": {},
     "output_type": "execute_result"
    }
   ],
   "source": [
    "#grouped summary for peaks\n",
    "Results['Peaks-Master'].groupby(level=0).describe()"
   ]
  },
  {
   "cell_type": "markdown",
   "metadata": {},
   "source": [
    "#### Display Summary Results for Bursts"
   ]
  },
  {
   "cell_type": "code",
   "execution_count": 58,
   "metadata": {
    "collapsed": true
   },
   "outputs": [
    {
     "data": {
      "text/html": [
       "<div style=\"max-height:1000px;max-width:1500px;overflow:auto;\">\n",
       "<table border=\"1\" class=\"dataframe\">\n",
       "  <thead>\n",
       "    <tr style=\"text-align: right;\">\n",
       "      <th></th>\n",
       "      <th></th>\n",
       "      <th>Burst Start</th>\n",
       "      <th>Burst End</th>\n",
       "      <th>Burst Duration</th>\n",
       "      <th>Burst Start Amplitude</th>\n",
       "      <th>Burst End Amplitude</th>\n",
       "      <th>Edge Event</th>\n",
       "      <th>Interburst Interval</th>\n",
       "      <th>Total Cycle Time</th>\n",
       "      <th>Peaks per Burst</th>\n",
       "      <th>Peak Amp</th>\n",
       "      <th>Peak Time</th>\n",
       "      <th>Attack</th>\n",
       "      <th>Decay</th>\n",
       "      <th>Intraburst Frequency</th>\n",
       "      <th>Burst Area</th>\n",
       "    </tr>\n",
       "  </thead>\n",
       "  <tbody>\n",
       "    <tr>\n",
       "      <th rowspan=\"8\" valign=\"top\">plethneg.txt</th>\n",
       "      <th>count</th>\n",
       "      <td>1557.000000</td>\n",
       "      <td>1557.000000</td>\n",
       "      <td>1557.000000</td>\n",
       "      <td>1557.000000</td>\n",
       "      <td>1557.000000</td>\n",
       "      <td>1557</td>\n",
       "      <td>1557.000000</td>\n",
       "      <td>1557.000000</td>\n",
       "      <td>1557</td>\n",
       "      <td>1557.000000</td>\n",
       "      <td>1557.000000</td>\n",
       "      <td>1557.000000</td>\n",
       "      <td>1557.000000</td>\n",
       "      <td>1557.000000</td>\n",
       "      <td>1557.000000</td>\n",
       "    </tr>\n",
       "    <tr>\n",
       "      <th>mean</th>\n",
       "      <td>712.696051</td>\n",
       "      <td>712.739542</td>\n",
       "      <td>0.043491</td>\n",
       "      <td>-15.792990</td>\n",
       "      <td>-15.734354</td>\n",
       "      <td>0</td>\n",
       "      <td>0.109395</td>\n",
       "      <td>0.152885</td>\n",
       "      <td>1</td>\n",
       "      <td>-13.657823</td>\n",
       "      <td>712.717958</td>\n",
       "      <td>0.021907</td>\n",
       "      <td>0.021584</td>\n",
       "      <td>24.102735</td>\n",
       "      <td>-0.627847</td>\n",
       "    </tr>\n",
       "    <tr>\n",
       "      <th>std</th>\n",
       "      <td>96.541692</td>\n",
       "      <td>96.542019</td>\n",
       "      <td>0.010693</td>\n",
       "      <td>2.263578</td>\n",
       "      <td>2.263499</td>\n",
       "      <td>0</td>\n",
       "      <td>0.091221</td>\n",
       "      <td>0.093783</td>\n",
       "      <td>0</td>\n",
       "      <td>2.397434</td>\n",
       "      <td>96.542205</td>\n",
       "      <td>0.007716</td>\n",
       "      <td>0.007325</td>\n",
       "      <td>4.975687</td>\n",
       "      <td>0.181741</td>\n",
       "    </tr>\n",
       "    <tr>\n",
       "      <th>min</th>\n",
       "      <td>550.158500</td>\n",
       "      <td>550.189500</td>\n",
       "      <td>0.024250</td>\n",
       "      <td>-21.812083</td>\n",
       "      <td>-21.804533</td>\n",
       "      <td>False</td>\n",
       "      <td>0.025250</td>\n",
       "      <td>0.058250</td>\n",
       "      <td>1</td>\n",
       "      <td>-20.300000</td>\n",
       "      <td>550.172750</td>\n",
       "      <td>0.004250</td>\n",
       "      <td>0.003750</td>\n",
       "      <td>5.524862</td>\n",
       "      <td>-2.342260</td>\n",
       "    </tr>\n",
       "    <tr>\n",
       "      <th>25%</th>\n",
       "      <td>625.328250</td>\n",
       "      <td>625.370500</td>\n",
       "      <td>0.036500</td>\n",
       "      <td>-17.524367</td>\n",
       "      <td>-17.481967</td>\n",
       "      <td>0</td>\n",
       "      <td>0.061500</td>\n",
       "      <td>0.101500</td>\n",
       "      <td>1</td>\n",
       "      <td>-15.410000</td>\n",
       "      <td>625.347500</td>\n",
       "      <td>0.016750</td>\n",
       "      <td>0.017750</td>\n",
       "      <td>20.618557</td>\n",
       "      <td>-0.721927</td>\n",
       "    </tr>\n",
       "    <tr>\n",
       "      <th>50%</th>\n",
       "      <td>718.691000</td>\n",
       "      <td>718.744500</td>\n",
       "      <td>0.042000</td>\n",
       "      <td>-15.846600</td>\n",
       "      <td>-15.811533</td>\n",
       "      <td>0</td>\n",
       "      <td>0.078750</td>\n",
       "      <td>0.124750</td>\n",
       "      <td>1</td>\n",
       "      <td>-13.700000</td>\n",
       "      <td>718.707750</td>\n",
       "      <td>0.020500</td>\n",
       "      <td>0.020750</td>\n",
       "      <td>23.809524</td>\n",
       "      <td>-0.595577</td>\n",
       "    </tr>\n",
       "    <tr>\n",
       "      <th>75%</th>\n",
       "      <td>793.907750</td>\n",
       "      <td>793.966250</td>\n",
       "      <td>0.048500</td>\n",
       "      <td>-14.092733</td>\n",
       "      <td>-14.012883</td>\n",
       "      <td>0</td>\n",
       "      <td>0.123750</td>\n",
       "      <td>0.169750</td>\n",
       "      <td>1</td>\n",
       "      <td>-12.110000</td>\n",
       "      <td>793.940250</td>\n",
       "      <td>0.025250</td>\n",
       "      <td>0.024000</td>\n",
       "      <td>27.397260</td>\n",
       "      <td>-0.500782</td>\n",
       "    </tr>\n",
       "    <tr>\n",
       "      <th>max</th>\n",
       "      <td>878.754500</td>\n",
       "      <td>878.802250</td>\n",
       "      <td>0.181000</td>\n",
       "      <td>-8.446017</td>\n",
       "      <td>-8.115333</td>\n",
       "      <td>False</td>\n",
       "      <td>1.072750</td>\n",
       "      <td>1.117500</td>\n",
       "      <td>1</td>\n",
       "      <td>-4.610000</td>\n",
       "      <td>878.784250</td>\n",
       "      <td>0.075250</td>\n",
       "      <td>0.143750</td>\n",
       "      <td>41.237113</td>\n",
       "      <td>-0.232644</td>\n",
       "    </tr>\n",
       "  </tbody>\n",
       "</table>\n",
       "</div>"
      ],
      "text/plain": [
       "                    Burst Start    Burst End  Burst Duration  \\\n",
       "plethneg.txt count  1557.000000  1557.000000     1557.000000   \n",
       "             mean    712.696051   712.739542        0.043491   \n",
       "             std      96.541692    96.542019        0.010693   \n",
       "             min     550.158500   550.189500        0.024250   \n",
       "             25%     625.328250   625.370500        0.036500   \n",
       "             50%     718.691000   718.744500        0.042000   \n",
       "             75%     793.907750   793.966250        0.048500   \n",
       "             max     878.754500   878.802250        0.181000   \n",
       "\n",
       "                    Burst Start Amplitude  Burst End Amplitude Edge Event  \\\n",
       "plethneg.txt count            1557.000000          1557.000000       1557   \n",
       "             mean              -15.792990           -15.734354          0   \n",
       "             std                 2.263578             2.263499          0   \n",
       "             min               -21.812083           -21.804533      False   \n",
       "             25%               -17.524367           -17.481967          0   \n",
       "             50%               -15.846600           -15.811533          0   \n",
       "             75%               -14.092733           -14.012883          0   \n",
       "             max                -8.446017            -8.115333      False   \n",
       "\n",
       "                    Interburst Interval  Total Cycle Time  Peaks per Burst  \\\n",
       "plethneg.txt count          1557.000000       1557.000000             1557   \n",
       "             mean              0.109395          0.152885                1   \n",
       "             std               0.091221          0.093783                0   \n",
       "             min               0.025250          0.058250                1   \n",
       "             25%               0.061500          0.101500                1   \n",
       "             50%               0.078750          0.124750                1   \n",
       "             75%               0.123750          0.169750                1   \n",
       "             max               1.072750          1.117500                1   \n",
       "\n",
       "                       Peak Amp    Peak Time       Attack        Decay  \\\n",
       "plethneg.txt count  1557.000000  1557.000000  1557.000000  1557.000000   \n",
       "             mean    -13.657823   712.717958     0.021907     0.021584   \n",
       "             std       2.397434    96.542205     0.007716     0.007325   \n",
       "             min     -20.300000   550.172750     0.004250     0.003750   \n",
       "             25%     -15.410000   625.347500     0.016750     0.017750   \n",
       "             50%     -13.700000   718.707750     0.020500     0.020750   \n",
       "             75%     -12.110000   793.940250     0.025250     0.024000   \n",
       "             max      -4.610000   878.784250     0.075250     0.143750   \n",
       "\n",
       "                    Intraburst Frequency   Burst Area  \n",
       "plethneg.txt count           1557.000000  1557.000000  \n",
       "             mean              24.102735    -0.627847  \n",
       "             std                4.975687     0.181741  \n",
       "             min                5.524862    -2.342260  \n",
       "             25%               20.618557    -0.721927  \n",
       "             50%               23.809524    -0.595577  \n",
       "             75%               27.397260    -0.500782  \n",
       "             max               41.237113    -0.232644  "
      ]
     },
     "execution_count": 58,
     "metadata": {},
     "output_type": "execute_result"
    }
   ],
   "source": [
    "#grouped summary for bursts\n",
    "Results['Bursts-Master'].groupby(level=0).describe()"
   ]
  },
  {
   "cell_type": "markdown",
   "metadata": {},
   "source": [
    "# Interactive Graphs\n",
    "## Line Graphs\n",
    "####One pannel, detected events\n",
    "Plot one time series by calling it's name"
   ]
  },
  {
   "cell_type": "code",
   "execution_count": 3,
   "metadata": {},
   "outputs": [],
   "source": [
    "#Interactive, single time series by Key\n",
    "key = Settings['Label']\n",
    "graph_ts(Data, Settings, Results, key)"
   ]
  },
  {
   "cell_type": "markdown",
   "metadata": {},
   "source": [
    "####Two pannel\n",
    "Create line plots of the raw data as well as the data analysis. \n",
    "\n",
    "Plots are saved by clicking the save button in the pop-up window with your graph.\n",
    "\n",
    "    key = 'Mean1'\n",
    "    start =100 \n",
    "    end= 101\n",
    "\n",
    "[Results Line Plot](https://github.com/drcgw/bass/wiki/Single-Wave-Interactive-Protocol#line-plots)"
   ]
  },
  {
   "cell_type": "code",
   "execution_count": 5,
   "metadata": {},
   "outputs": [],
   "source": [
    "key = Settings['Label']\n",
    "start =550 #start time in seconds\n",
    "end= 560#end time in seconds\n",
    "results_timeseries_plot(key, start, end, Data, Settings, Results)"
   ]
  },
  {
   "cell_type": "markdown",
   "metadata": {},
   "source": [
    "## Autocorrelation"
   ]
  },
  {
   "cell_type": "markdown",
   "metadata": {},
   "source": [
    "Display the Autocorrelation plot of your transformed data.\n",
    "\n",
    "Choose the start and end time in seconds. to capture whole time series, use end = -1. May be slow\n",
    "\n",
    "    key = 'Mean1'\n",
    "    start = 0 \n",
    "    end = 10\n",
    "    \n",
    "[Autocorrelation Plot](https://github.com/drcgw/bass/wiki/Single-Wave-Interactive-Protocol#autocorrelation)"
   ]
  },
  {
   "cell_type": "code",
   "execution_count": null,
   "metadata": {},
   "outputs": [],
   "source": [
    "#autocorrelation\n",
    "key = Settings['Label']\n",
    "start = 0 #seconds, where you want the slice to begin\n",
    "end = 1 #seconds, where you want the slice to end.\n",
    "autocorrelation_plot(Data['trans'][key][start:end])\n",
    "plt.show()"
   ]
  },
  {
   "cell_type": "markdown",
   "metadata": {},
   "source": [
    "## Raster Plot"
   ]
  },
  {
   "cell_type": "markdown",
   "metadata": {},
   "source": [
    "Shows the temporal relationship of peaks in each column. Auto scales. Display only. Intended for more than one column of data"
   ]
  },
  {
   "cell_type": "code",
   "execution_count": null,
   "metadata": {},
   "outputs": [],
   "source": [
    "#raster\n",
    "raster(Data, Results)"
   ]
  },
  {
   "cell_type": "markdown",
   "metadata": {},
   "source": [
    "## Frequency Plot\n",
    "Use this block to plot changes of any measurement over time. Does not support 'all'. Example:\n",
    "\n",
    "    event_type = 'Peaks'\n",
    "    meas = 'Intervals'\n",
    "    key = 'Mean1'\n",
    "\n",
    "[Frequency Plot](https://github.com/drcgw/bass/wiki/Single-Wave-Interactive-Protocol#frequency-plot)"
   ]
  },
  {
   "cell_type": "code",
   "execution_count": 5,
   "metadata": {},
   "outputs": [],
   "source": [
    "event_type = 'Peaks'\n",
    "meas = 'Intervals'\n",
    "key = Settings['Label']\n",
    "frequency_plot(event_type, meas, key, Data, Settings, Results)"
   ]
  },
  {
   "cell_type": "markdown",
   "metadata": {},
   "source": [
    "## Analyze Events by Measurement\n",
    "Generates a line plot with error bars for a given event measurement. X axis is the names of each time series. Display Only. Intended for more than one column of data. This is not a box and whiskers plot.\n",
    "\n",
    "    event_type = 'peaks'\n",
    "    meas = 'Peaks Amplitude'\n",
    "    \n",
    "[Analyze Events by Measurement](https://github.com/drcgw/bass/wiki/Single-Wave-Interactive-Protocol#analyze-events-by-measurement)"
   ]
  },
  {
   "cell_type": "code",
   "execution_count": null,
   "metadata": {},
   "outputs": [],
   "source": [
    "#Get average plots, display only\n",
    "event_type = 'Peaks'\n",
    "meas = 'Intervals'\n",
    "average_measurement_plot(event_type, meas,Results)"
   ]
  },
  {
   "cell_type": "markdown",
   "metadata": {},
   "source": [
    "## Poincare Plots\n",
    "\n",
    "Create a Poincare Plot of your favorite varible. Choose an event type (Peaks or Bursts), measurement type. Calling meas = 'All' is supported.\n",
    "\n",
    "Plots and tables are saved automatically\n",
    "\n",
    "Example:\n",
    "\n",
    "    event_type = 'Bursts'\n",
    "    meas = 'Burst Duration'\n",
    "\n",
    "[More on Poincare Plots](https://github.com/drcgw/bass/wiki/Single-Wave-Interactive-Protocol#poincare-plots)\n",
    "\n",
    "####Batch Poincare\n",
    "\n",
    "[Batch Poincare](https://github.com/drcgw/bass/wiki/Single-Wave-Interactive-Protocol#batch-poincare)"
   ]
  },
  {
   "cell_type": "code",
   "execution_count": 81,
   "metadata": {},
   "outputs": [
    {
     "data": {
      "text/html": [
       "<div style=\"max-height:1000px;max-width:1500px;overflow:auto;\">\n",
       "<table border=\"1\" class=\"dataframe\">\n",
       "  <thead>\n",
       "    <tr style=\"text-align: right;\">\n",
       "      <th></th>\n",
       "      <th></th>\n",
       "      <th>Attack</th>\n",
       "      <th>Decay</th>\n",
       "      <th>Total Cycle Time</th>\n",
       "    </tr>\n",
       "  </thead>\n",
       "  <tbody>\n",
       "    <tr>\n",
       "      <th>SD1</th>\n",
       "      <th>pleth.txt</th>\n",
       "      <td>0.005717</td>\n",
       "      <td>0.005968</td>\n",
       "      <td>0.117689</td>\n",
       "    </tr>\n",
       "    <tr>\n",
       "      <th>SD2</th>\n",
       "      <th>pleth.txt</th>\n",
       "      <td>0.009136</td>\n",
       "      <td>0.006769</td>\n",
       "      <td>0.140370</td>\n",
       "    </tr>\n",
       "  </tbody>\n",
       "</table>\n",
       "</div>"
      ],
      "text/plain": [
       "                 Attack     Decay  Total Cycle Time\n",
       "SD1 pleth.txt  0.005717  0.005968          0.117689\n",
       "SD2 pleth.txt  0.009136  0.006769          0.140370"
      ]
     },
     "execution_count": 81,
     "metadata": {},
     "output_type": "execute_result"
    }
   ],
   "source": [
    "#Batch\n",
    "event_type = 'Bursts'\n",
    "meas = 'Total Cycle Time'\n",
    "Results = poincare_batch(event_type, meas, Data, Settings, Results)\n",
    "pd.concat({'SD1':Results['Poincare SD1'],'SD2':Results['Poincare SD2']})"
   ]
  },
  {
   "cell_type": "markdown",
   "metadata": {},
   "source": [
    "####Quick Poincare Plot\n",
    "\n",
    "Quickly call one poincare plot for display. Plot and Table are not saved automatically. Choose an event type (Peaks or Bursts), measurement type, and key. Calling meas = 'All' is not supported.\n",
    "\n",
    "[Quick Poincare](https://github.com/drcgw/bass/wiki/Single-Wave-Interactive-Protocol#quick-poincare-plots)"
   ]
  },
  {
   "cell_type": "code",
   "execution_count": 6,
   "metadata": {},
   "outputs": [
    {
     "name": "stdout",
     "output_type": "stream",
     "text": [
      "Attack results:\n",
      "SD1 = 0.0257 s\n",
      "SD2 = 0.0311 s\n"
     ]
    }
   ],
   "source": [
    "#quick\n",
    "event_type = 'Bursts'\n",
    "meas = 'Attack'\n",
    "key = Settings['Label']\n",
    "poincare_plot(Results[event_type][key][meas])"
   ]
  },
  {
   "cell_type": "markdown",
   "metadata": {},
   "source": [
    "## Power Spectral Density\n",
    "The following blocks allows you to asses the power of event measuments in the frequency domain. While you can call this block on any event measurement, it is intended to be used on interval data (or at least data with units in seconds). Reccomended:\n",
    "\n",
    "    event_type = 'Bursts'\n",
    "    meas = 'Total Cycle Time'\n",
    "    key = 'Mean1'\n",
    "    scale = 'raw'\n",
    "    \n",
    "    event_type = 'Peaks'\n",
    "    meas = 'Intervals'\n",
    "    key = 'Mean1'\n",
    "    scale = 'raw'\n",
    "\n",
    "Because this data is in the frequency domain, we must interpolate it in order to perform a FFT on it. Does not support 'all'.\n",
    "\n",
    "[Power Spectral Density: Events](https://github.com/drcgw/bass/wiki/Single-Wave-Interactive-Protocol#power-spectral-density)"
   ]
  },
  {
   "cell_type": "markdown",
   "metadata": {},
   "source": [
    "### Events"
   ]
  },
  {
   "cell_type": "markdown",
   "metadata": {},
   "source": [
    "Use the code block below to specify your settings for event measurment PSD."
   ]
  },
  {
   "cell_type": "code",
   "execution_count": 18,
   "metadata": {},
   "outputs": [],
   "source": [
    "Settings['PSD-Event'] = Series(index = ['Hz','ULF', 'VLF', 'LF','HF','dx'])\n",
    "#Set PSD ranges for power in band\n",
    "\n",
    "Settings['PSD-Event']['hz'] = 100 #freqency that the interpolation and PSD are performed with.\n",
    "Settings['PSD-Event']['ULF'] = 1 #max of the range of the ultra low freq band. range is 0:ulf\n",
    "Settings['PSD-Event']['VLF'] = 2 #max of the range of the very low freq band. range is ulf:vlf\n",
    "Settings['PSD-Event']['LF'] = 5 #max of the range of the low freq band. range is vlf:lf\n",
    "Settings['PSD-Event']['HF'] = 50 #max of the range of the high freq band. range is lf:hf. hf can be no more than (hz/2)\n",
    "Settings['PSD-Event']['dx'] = 10 #segmentation for the area under the curve. "
   ]
  },
  {
   "cell_type": "code",
   "execution_count": 19,
   "metadata": {},
   "outputs": [
    {
     "data": {
      "text/html": [
       "<div>\n",
       "<table border=\"1\" class=\"dataframe\">\n",
       "  <thead>\n",
       "    <tr style=\"text-align: right;\">\n",
       "      <th></th>\n",
       "      <th>Intervals</th>\n",
       "    </tr>\n",
       "  </thead>\n",
       "  <tbody>\n",
       "    <tr>\n",
       "      <th>ULF</th>\n",
       "      <td>0.0328843</td>\n",
       "    </tr>\n",
       "    <tr>\n",
       "      <th>VLF</th>\n",
       "      <td>0.00711321</td>\n",
       "    </tr>\n",
       "    <tr>\n",
       "      <th>LF</th>\n",
       "      <td>0.000481597</td>\n",
       "    </tr>\n",
       "    <tr>\n",
       "      <th>HF</th>\n",
       "      <td>1.65282e-06</td>\n",
       "    </tr>\n",
       "    <tr>\n",
       "      <th>LF/HF</th>\n",
       "      <td>291.378</td>\n",
       "    </tr>\n",
       "    <tr>\n",
       "      <th>Scale</th>\n",
       "      <td>s^2/Hz</td>\n",
       "    </tr>\n",
       "  </tbody>\n",
       "</table>\n",
       "</div>"
      ],
      "text/plain": [
       "         Intervals\n",
       "ULF      0.0328843\n",
       "VLF     0.00711321\n",
       "LF     0.000481597\n",
       "HF     1.65282e-06\n",
       "LF/HF      291.378\n",
       "Scale       s^2/Hz"
      ]
     },
     "execution_count": 19,
     "metadata": {},
     "output_type": "execute_result"
    }
   ],
   "source": [
    "event_type = 'Peaks'\n",
    "meas = 'Intervals'\n",
    "key = Settings['Label']\n",
    "scale = 'raw'\n",
    "Results = psd_event(event_type, meas, key, scale, Data, Settings, Results)\n",
    "Results['PSD-Event'][key]"
   ]
  },
  {
   "cell_type": "markdown",
   "metadata": {},
   "source": [
    "### Time Series"
   ]
  },
  {
   "cell_type": "markdown",
   "metadata": {},
   "source": [
    "Use the settings code block to set your frequency bands to calculate area under the curve. This block is not required. band output is always in raw power, even if the graph scale is dB/Hz.\n",
    "\n",
    "[Power Spectral Density: Signal](https://github.com/drcgw/bass/wiki/Single-Wave-Interactive-Protocol#power-spectral-density-optional)"
   ]
  },
  {
   "cell_type": "code",
   "execution_count": null,
   "metadata": {},
   "outputs": [],
   "source": [
    "#optional\n",
    "Settings['PSD-Signal'] = Series(index = ['ULF', 'VLF', 'LF','HF','dx'])\n",
    "\n",
    "#Set PSD ranges for power in band\n",
    "Settings['PSD-Signal']['ULF'] = 25 #max of the range of the ultra low freq band. range is 0:ulf\n",
    "Settings['PSD-Signal']['VLF'] = 75 #max of the range of the very low freq band. range is ulf:vlf\n",
    "Settings['PSD-Signal']['LF'] = 150 #max of the range of the low freq band. range is vlf:lf\n",
    "Settings['PSD-Signal']['HF'] = 300 #max of the range of the high freq band. range is lf:hf. hf can be no more than (hz/2) where hz is the sampling frequency\n",
    "Settings['PSD-Signal']['dx'] = 2 #segmentation for integration of the area under the curve. "
   ]
  },
  {
   "cell_type": "markdown",
   "metadata": {},
   "source": [
    "Use the block below to generate the PSD graph and power in bands results (if selected). scale toggles which units to use for the graph:\n",
    "    \n",
    "    raw = s^2/Hz\n",
    "    db = dB/Hz = 10*log10(s^2/Hz)\n",
    "    \n",
    "Graph and table are automatically saved in the `PSD-Signal` subfolder."
   ]
  },
  {
   "cell_type": "code",
   "execution_count": null,
   "metadata": {},
   "outputs": [],
   "source": [
    "scale = 'raw' #raw or db\n",
    "Results = psd_signal(version = 'original', key = 'Mean1', scale = scale, \n",
    "                     Data = Data, Settings = Settings, Results = Results)\n",
    "Results['PSD-Signal']"
   ]
  },
  {
   "cell_type": "markdown",
   "metadata": {},
   "source": [
    "### Spectrogram"
   ]
  },
  {
   "cell_type": "markdown",
   "metadata": {},
   "source": [
    "Use the block below to get the spectrogram of the signal. The frequency (y-axis) scales automatically to only show 'active' frequencies. This can take some time to run. \n",
    "\n",
    "    version = 'original'\n",
    "    key = 'Mean1'\n",
    "\n",
    "After transformation is run, you can call version = 'trans'. This graph is not automatically saved.\n",
    "\n",
    "[Spectrogram](https://github.com/drcgw/bass/wiki/Single-Wave-Interactive-Protocol#spectrogram)"
   ]
  },
  {
   "cell_type": "code",
   "execution_count": null,
   "metadata": {},
   "outputs": [],
   "source": [
    "version = 'original'\n",
    "key = Settings['Label']\n",
    "spectogram(version, key, Data, Settings, Results)"
   ]
  },
  {
   "cell_type": "markdown",
   "metadata": {},
   "source": [
    "## Descriptive Statistics"
   ]
  },
  {
   "cell_type": "markdown",
   "metadata": {},
   "source": [
    "#### Moving/Sliding Averages, Standard Deviation, and Count\n",
    "Generates the moving **mean**, **standard deviation**, and **count** for a given measurement across all columns of the Data in the form of a DataFrame (displayed as a table).\n",
    "Saves out the dataframes of these three results automatically with the window size in the name as a .csv.\n",
    "If **meas == 'All'**, then the function will loop and produce these tables for all measurements.\n",
    "\n",
    "    event_type = 'Peaks'\n",
    "    meas = 'all'\n",
    "    window = 30\n",
    "    \n",
    "[Moving Stats](https://github.com/drcgw/bass/wiki/Single-Wave-Interactive-Protocol#analyze-events-by-measurement)"
   ]
  },
  {
   "cell_type": "code",
   "execution_count": 93,
   "metadata": {
    "scrolled": false
   },
   "outputs": [
    {
     "name": "stdout",
     "output_type": "stream",
     "text": [
      "Total Cycle Time Count\n",
      "     pleth.txt\n",
      "0            0\n",
      "30           0\n",
      "60           0\n",
      "90           0\n",
      "120          0\n",
      "150          0\n",
      "180          0\n",
      "210          0\n",
      "240          0\n",
      "270          0\n",
      "300          0\n",
      "330          0\n",
      "360          0\n",
      "390          0\n",
      "420          0\n",
      "450          0\n",
      "480          0\n",
      "510          0\n",
      "540        119\n",
      "570        166\n",
      "600        119\n",
      "630         99\n",
      "660        128\n",
      "690        146\n",
      "720        208\n",
      "750        122\n",
      "780        116\n",
      "810        114\n",
      "840        170\n",
      "Total Cycle Time Mean\n",
      "     pleth.txt\n",
      "0     0.000000\n",
      "30    0.000000\n",
      "60    0.000000\n",
      "90    0.000000\n",
      "120   0.000000\n",
      "150   0.000000\n",
      "180   0.000000\n",
      "210   0.000000\n",
      "240   0.000000\n",
      "270   0.000000\n",
      "300   0.000000\n",
      "330   0.000000\n",
      "360   0.000000\n",
      "390   0.000000\n",
      "420   0.000000\n",
      "450   0.000000\n",
      "480   0.000000\n",
      "510   0.000000\n",
      "540   0.140704\n",
      "570   0.149724\n",
      "600   0.217416\n",
      "630   0.229639\n",
      "660   0.201664\n",
      "690   0.163940\n",
      "720   0.133573\n",
      "750   0.184018\n",
      "780   0.170933\n",
      "810   0.159822\n",
      "840   0.155459\n",
      "Total Cycle Time Std\n",
      "     pleth.txt\n",
      "0     0.000000\n",
      "30    0.000000\n",
      "60    0.000000\n",
      "90    0.000000\n",
      "120   0.000000\n",
      "150   0.000000\n",
      "180   0.000000\n",
      "210   0.000000\n",
      "240   0.000000\n",
      "270   0.000000\n",
      "300   0.000000\n",
      "330   0.000000\n",
      "360   0.000000\n",
      "390   0.000000\n",
      "420   0.000000\n",
      "450   0.000000\n",
      "480   0.000000\n",
      "510   0.000000\n",
      "540   0.082745\n",
      "570   0.112751\n",
      "600   0.187068\n",
      "630   0.200834\n",
      "660   0.201966\n",
      "690   0.067585\n",
      "720   0.082877\n",
      "750   0.104436\n",
      "780   0.084920\n",
      "810   0.076713\n",
      "840   0.120919\n"
     ]
    }
   ],
   "source": [
    "#Moving Stats\n",
    "event_type = 'Bursts'\n",
    "meas = 'Total Cycle Time'\n",
    "window = 30 #seconds\n",
    "Results = moving_statistics(event_type, meas, window, Data, Settings, Results)"
   ]
  },
  {
   "cell_type": "markdown",
   "metadata": {},
   "source": [
    "## Entropy"
   ]
  },
  {
   "cell_type": "markdown",
   "metadata": {},
   "source": [
    "### Histogram Entropy\n",
    "Calculates the histogram entropy of a measurement for each column of data. Also saves the histogram of each. If meas is set to 'all', then all available measurements from the event_type chosen will be calculated iteratevely. \n",
    "\n",
    "If all of the samples fall in one bin regardless of the bin size, it means we have the most predictable sitution and the entropy is 0. If we have uniformly dist function, the max entropy will be 1\n",
    "\n",
    "    event_type = 'Bursts'\n",
    "    meas = 'all'\n",
    "\n",
    "[Histogram Entropy](https://github.com/drcgw/bass/wiki/Single-Wave-Interactive-Protocol#histentropy)"
   ]
  },
  {
   "cell_type": "code",
   "execution_count": 82,
   "metadata": {},
   "outputs": [
    {
     "name": "stdout",
     "output_type": "stream",
     "text": [
      "All Bursts measurements analyzed.\n"
     ]
    },
    {
     "data": {
      "text/html": [
       "<div style=\"max-height:1000px;max-width:1500px;overflow:auto;\">\n",
       "<table border=\"1\" class=\"dataframe\">\n",
       "  <thead>\n",
       "    <tr style=\"text-align: right;\">\n",
       "      <th></th>\n",
       "      <th>Burst Start</th>\n",
       "      <th>Burst End</th>\n",
       "      <th>Burst Duration</th>\n",
       "      <th>Burst Start Amplitude</th>\n",
       "      <th>Burst End Amplitude</th>\n",
       "      <th>Edge Event</th>\n",
       "      <th>Interburst Interval</th>\n",
       "      <th>Total Cycle Time</th>\n",
       "      <th>Peaks per Burst</th>\n",
       "      <th>Peak Amp</th>\n",
       "      <th>Peak Time</th>\n",
       "      <th>Attack</th>\n",
       "      <th>Decay</th>\n",
       "      <th>Intraburst Frequency</th>\n",
       "      <th>Burst Area</th>\n",
       "    </tr>\n",
       "  </thead>\n",
       "  <tbody>\n",
       "    <tr>\n",
       "      <th>pleth.txt</th>\n",
       "      <td>0.973718</td>\n",
       "      <td>0.973718</td>\n",
       "      <td>0.590168</td>\n",
       "      <td>0.858843</td>\n",
       "      <td>0.850922</td>\n",
       "      <td>0</td>\n",
       "      <td>0.505385</td>\n",
       "      <td>0.520613</td>\n",
       "      <td>0</td>\n",
       "      <td>0.827021</td>\n",
       "      <td>0.973718</td>\n",
       "      <td>0.67141</td>\n",
       "      <td>0.535883</td>\n",
       "      <td>0.805133</td>\n",
       "      <td>0.630351</td>\n",
       "    </tr>\n",
       "  </tbody>\n",
       "</table>\n",
       "</div>"
      ],
      "text/plain": [
       "           Burst Start  Burst End  Burst Duration  Burst Start Amplitude  \\\n",
       "pleth.txt     0.973718   0.973718        0.590168               0.858843   \n",
       "\n",
       "           Burst End Amplitude  Edge Event  Interburst Interval  \\\n",
       "pleth.txt             0.850922           0             0.505385   \n",
       "\n",
       "           Total Cycle Time  Peaks per Burst  Peak Amp  Peak Time   Attack  \\\n",
       "pleth.txt          0.520613                0  0.827021   0.973718  0.67141   \n",
       "\n",
       "              Decay  Intraburst Frequency  Burst Area  \n",
       "pleth.txt  0.535883              0.805133    0.630351  "
      ]
     },
     "execution_count": 82,
     "metadata": {},
     "output_type": "execute_result"
    }
   ],
   "source": [
    "#Histogram Entropy\n",
    "event_type = 'Bursts'\n",
    "meas = 'all'\n",
    "Results = histent_wrapper(event_type, meas, Data, Settings, Results)\n",
    "Results['Histogram Entropy']"
   ]
  },
  {
   "cell_type": "markdown",
   "metadata": {},
   "source": [
    "## Approximate entropy\n",
    "this only runs if you have pyeeg.py in the same folder as this notebook and bass.py. **WARNING: THIS FUNCTION RUNS SLOWLY**\n",
    "\n",
    "run the below code to get the approximate entropy of any measurement or raw signal. Returns the entropy of the entire results array (no windowing). I am using the following M and R values:\n",
    "\n",
    "    M = 2  \n",
    "    R = 0.2*std(measurement)\n",
    "    \n",
    "these values can be modified in the source code. alternatively, you can call ap_entropy directly. supports 'all'\n",
    "\n",
    "**Interpretation**: A time series containing many repetitive patterns has a relatively small ApEn; a less predictable process has a higher ApEn.\n",
    "\n",
    "[Approximate Entropy in BASS](https://github.com/drcgw/bass/wiki/Single-Wave-Interactive-Protocol#approximate-entropy)\n",
    "\n",
    "[Aproximate Entropy Source](http://pyeeg.sourceforge.net/)\n",
    "\n",
    "###Events"
   ]
  },
  {
   "cell_type": "code",
   "execution_count": null,
   "metadata": {
    "collapsed": true
   },
   "outputs": [],
   "source": [
    "#Approximate Entropy\n",
    "event_type = 'Peaks'\n",
    "meas = 'Intervals'\n",
    "Results = ap_entropy_wrapper(event_type, meas, Data, Settings, Results)\n",
    "Results['Approximate Entropy']"
   ]
  },
  {
   "cell_type": "markdown",
   "metadata": {},
   "source": [
    "###Time Series"
   ]
  },
  {
   "cell_type": "code",
   "execution_count": null,
   "metadata": {
    "collapsed": true
   },
   "outputs": [],
   "source": [
    "#Approximate Entropy on raw signal\n",
    "#takes a VERY long time\n",
    "from pyeeg import ap_entropy\n",
    "\n",
    "version = 'original' #original, trans, shift, or rolling\n",
    "key = Settings['Label'] #Mean1 default key for one time series\n",
    "start = 0 #seconds, where you want the slice to begin\n",
    "end = 1 #seconds, where you want the slice to end. The absolute end is -1\n",
    "\n",
    "ap_entropy(Data[version][key][start:end].tolist(), 2, (0.2*np.std(Data[version][key][start:end])))"
   ]
  },
  {
   "cell_type": "markdown",
   "metadata": {},
   "source": [
    "### Sample Entropy\n",
    "this only runs if you have pyeeg.py in the same folder as this notebook and bass.py. **WARNING: THIS FUNCTION RUNS SLOWLY**\n",
    "\n",
    "run the below code to get the sample entropy of any measurement. Returns the entropy of the entire results array (no windowing). I am using the following M and R values:\n",
    "\n",
    "    M = 2  \n",
    "    R = 0.2*std(measurement)\n",
    "    \n",
    "these values can be modified in the source code. alternatively, you can call samp_entropy directly. \n",
    "Supports 'all'\n",
    "\n",
    "[Sample Entropy in BASS](https://github.com/drcgw/bass/wiki/Single-Wave-Interactive-Protocol#sample-entropy)\n",
    "\n",
    "[Sample Entropy Source](http://pyeeg.sourceforge.net/)\n",
    "\n",
    "###Events"
   ]
  },
  {
   "cell_type": "code",
   "execution_count": 73,
   "metadata": {},
   "outputs": [
    {
     "data": {
      "text/html": [
       "<div style=\"max-height:1000px;max-width:1500px;overflow:auto;\">\n",
       "<table border=\"1\" class=\"dataframe\">\n",
       "  <thead>\n",
       "    <tr style=\"text-align: right;\">\n",
       "      <th></th>\n",
       "      <th>Attack</th>\n",
       "      <th>Decay</th>\n",
       "      <th>Total Cycle Time</th>\n",
       "    </tr>\n",
       "  </thead>\n",
       "  <tbody>\n",
       "    <tr>\n",
       "      <th>pleth.txt</th>\n",
       "      <td>1.694886</td>\n",
       "      <td>1.770121</td>\n",
       "      <td>0.796896</td>\n",
       "    </tr>\n",
       "  </tbody>\n",
       "</table>\n",
       "</div>"
      ],
      "text/plain": [
       "             Attack     Decay  Total Cycle Time\n",
       "pleth.txt  1.694886  1.770121          0.796896"
      ]
     },
     "execution_count": 73,
     "metadata": {},
     "output_type": "execute_result"
    }
   ],
   "source": [
    "#Sample Entropy\n",
    "event_type = 'Bursts'\n",
    "meas = 'Total Cycle Time'\n",
    "Results = samp_entropy_wrapper(event_type, meas, Data, Settings, Results)\n",
    "Results['Sample Entropy']"
   ]
  },
  {
   "cell_type": "code",
   "execution_count": 74,
   "metadata": {},
   "outputs": [
    {
     "data": {
      "text/plain": [
       "pleth.txt    1.694886\n",
       "Name: Attack, dtype: float64"
      ]
     },
     "execution_count": 74,
     "metadata": {},
     "output_type": "execute_result"
    }
   ],
   "source": [
    "Results['Sample Entropy']['Attack']"
   ]
  },
  {
   "cell_type": "markdown",
   "metadata": {},
   "source": [
    "###Time Series"
   ]
  },
  {
   "cell_type": "code",
   "execution_count": null,
   "metadata": {
    "collapsed": true
   },
   "outputs": [],
   "source": [
    "#on raw signal\n",
    "#takes a VERY long time\n",
    "version = 'original' #original, trans, shift, or rolling\n",
    "key = Settings['Label']\n",
    "start = 0 #seconds, where you want the slice to begin\n",
    "end = 1 #seconds, where you want the slice to end. The absolute end is -1\n",
    "\n",
    "samp_entropy(Data[version][key][start:end].tolist(), 2, (0.2*np.std(Data[version][key][start:end])))"
   ]
  },
  {
   "cell_type": "markdown",
   "metadata": {},
   "source": [
    "# Helpful Stuff"
   ]
  },
  {
   "cell_type": "markdown",
   "metadata": {},
   "source": [
    "While not completely up to date with some of the new changes, the Wiki can be useful if you have questions about some of the settings: https://github.com/drcgw/SWAN/wiki/Tutorial"
   ]
  },
  {
   "cell_type": "markdown",
   "metadata": {},
   "source": [
    "# More Help?"
   ]
  },
  {
   "cell_type": "markdown",
   "metadata": {},
   "source": [
    "Stuck on a particular step or function?\n",
    "Try typing the function name followed by two ??. This will pop up the docstring and source code.\n",
    "You can also call help() to have the notebook print the doc string.\n",
    "\n",
    "    Example:\n",
    "    analyze??\n",
    "    help(analyze)"
   ]
  },
  {
   "cell_type": "code",
   "execution_count": 2,
   "metadata": {},
   "outputs": [
    {
     "ename": "NameError",
     "evalue": "name 'moving_statistics' is not defined",
     "output_type": "error",
     "traceback": [
      "\u001b[1;31m---------------------------------------------------------------------------\u001b[0m",
      "\u001b[1;31mNameError\u001b[0m                                 Traceback (most recent call last)",
      "\u001b[1;32m<ipython-input-2-80509aa6abd8>\u001b[0m in \u001b[0;36m<module>\u001b[1;34m()\u001b[0m\n\u001b[1;32m----> 1\u001b[1;33m \u001b[0mhelp\u001b[0m\u001b[1;33m(\u001b[0m\u001b[0mmoving_statistics\u001b[0m\u001b[1;33m)\u001b[0m\u001b[1;33m\u001b[0m\u001b[0m\n\u001b[0m",
      "\u001b[1;31mNameError\u001b[0m: name 'moving_statistics' is not defined"
     ]
    }
   ],
   "source": [
    "help(moving_statistics)"
   ]
  },
  {
   "cell_type": "code",
   "execution_count": 1,
   "metadata": {},
   "outputs": [
    {
     "name": "stdout",
     "output_type": "stream",
     "text": [
      "Object `moving_statistics` not found.\n"
     ]
    }
   ],
   "source": [
    "moving_statistics??"
   ]
  },
  {
   "cell_type": "markdown",
   "metadata": {},
   "source": [
    "##Blank Code Block\n",
    "you're still here, reading? you must be a dedicated super user!\n",
    "\n",
    "If that is the case, then you must know how to code in Python. Use this space to get crazy with your own advanced analysis and stuff.\n",
    "\n",
    "[Blank Code Block](https://github.com/drcgw/bass/wiki/Single-Wave-Interactive-Protocol#blank-code-block)"
   ]
  },
  {
   "cell_type": "code",
   "execution_count": null,
   "metadata": {
    "collapsed": true
   },
   "outputs": [],
   "source": []
  }
 ],
 "metadata": {
  "celltoolbar": "Raw Cell Format",
  "kernelspec": {
   "display_name": "Python 3",
   "language": "python",
   "name": "python3"
  },
  "language_info": {
   "codemirror_mode": {
    "name": "ipython",
    "version": 3
   },
   "file_extension": ".py",
   "mimetype": "text/x-python",
   "name": "python",
   "nbconvert_exporter": "python",
   "pygments_lexer": "ipython3",
   "version": "3.6.1"
  }
 },
 "nbformat": 4,
 "nbformat_minor": 1
}
