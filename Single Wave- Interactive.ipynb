{
 "cells": [
  {
   "cell_type": "markdown",
   "metadata": {},
   "source": [
    "# Welcome to BASS!"
   ]
  },
  {
   "cell_type": "markdown",
   "metadata": {},
   "source": [
    "Version: Single Wave- Interactive Notebook."
   ]
  },
  {
   "cell_type": "markdown",
   "metadata": {},
   "source": [
    "    BASS: Biomedical Analysis Software Suite for event detection and signal processing.\n",
    "    Copyright (C) 2015  Abigail Dobyns\n",
    "\n",
    "    This program is free software: you can redistribute it and/or modify\n",
    "    it under the terms of the GNU General Public License as published by\n",
    "    the Free Software Foundation, either version 3 of the License, or\n",
    "    (at your option) any later version.\n",
    "\n",
    "    This program is distributed in the hope that it will be useful,\n",
    "    but WITHOUT ANY WARRANTY; without even the implied warranty of\n",
    "    MERCHANTABILITY or FITNESS FOR A PARTICULAR PURPOSE.  See the\n",
    "    GNU General Public License for more details.\n",
    "\n",
    "    You should have received a copy of the GNU General Public License\n",
    "    along with this program.  If not, see <http://www.gnu.org/licenses/>"
   ]
  },
  {
   "cell_type": "markdown",
   "metadata": {},
   "source": [
    "## Initalize"
   ]
  },
  {
   "cell_type": "markdown",
   "metadata": {},
   "source": [
    "Run the following code block to intialize the program. This notebook and bass.py file **must** be in the same folder."
   ]
  },
  {
   "cell_type": "code",
   "execution_count": 1,
   "metadata": {},
   "outputs": [
    {
     "name": "stdout",
     "output_type": "stream",
     "text": [
      "BASS ready!\n"
     ]
    }
   ],
   "source": [
    "from BASS import *\n",
    "from bass_functions import *"
   ]
  },
  {
   "cell_type": "markdown",
   "metadata": {},
   "source": [
    "# Begin User Input\n",
    "\n",
    "For help, check out the wiki: [Protocol](https://github.com/drcgw/bass/wiki/Single-Wave-Interactive-Protocol)\n",
    "\n",
    "Or the video tutorial: Coming Soon!\n",
    "\n",
    "## Load Data File\n",
    "Use the following block to change your settings. You **must** use this block.\n",
    "\n",
    "Here are some helpful information about the loading settings:\n",
    "\n",
    "**Full File Path to Folder containing file:**\n",
    "Designate the path to your file to load. It can also be the relative path to the folder where this notebook is stored. This does not include the file itself.\n",
    "\n",
    "    Mac OSX Example: '/Users/MYNAME/Documents/bass'\n",
    "    Microsoft Example: 'C:\\\\Users\\MYNAME\\Documents\\bass'\n",
    "    \n",
    "\n",
    "**File name:**\n",
    "This is the name of your data file. It should include the file type. This file should NOT have a header and the first column must be time in seconds. Note: This file name will also appear as part of the output files names.\n",
    "\n",
    "    'rat34_ECG.txt' \n",
    "\n",
    "**Full File Path for data output:** Designate the location of the folder where you would like the folder containing your results to go. If the folder does not exist, then it will be created. A plots folder, called 'plots' will be created inside this folder for you if it does not already exist. \n",
    "\n",
    "    Mac OSX Example: '/Users/MYNAME/Documents/output'\n",
    "    Microsoft Example: 'C:\\\\Users\\MYNAME\\Documents\\output' \n",
    "\n",
    "[Loading a file](https://github.com/drcgw/bass/wiki/Single-Wave-Interactive-Protocol#load)"
   ]
  },
  {
   "cell_type": "code",
   "execution_count": 3,
   "metadata": {},
   "outputs": [
    {
     "name": "stdout",
     "output_type": "stream",
     "text": [
      "Full File Path to Folder containing file: C:\\Users\\nils\\Documents\\GitHub\\bass\n",
      "File Name: KORDDJ2-SalB-selection-eeg.txt\n",
      "Full File Path to Output Folder: C:\\Users\\nils\\Documents\\GitHub\\bass\\output\n",
      "Made plots folder\n",
      "Data Loaded\n",
      "Rounded Sampling Rate (s/frame): 0.001\n",
      "KORDDJ2-SalB-selection-eeg.txt is 97.779 seconds long.\n"
     ]
    }
   ],
   "source": [
    "Data, Settings, Results = load_interact()"
   ]
  },
  {
   "cell_type": "markdown",
   "metadata": {},
   "source": [
    "### Graph Data (Optional)"
   ]
  },
  {
   "cell_type": "markdown",
   "metadata": {},
   "source": [
    "Use this block to check any slicing you need to do to cut out problematic data from the head or tail. You can click on any point in the wave to get the (x,y) location of that point. Clipping inside this notebook is not supported at this time.\n",
    "\n",
    "[Graph Raw Data](https://github.com/drcgw/bass/wiki/Tutorial#graph-data)"
   ]
  },
  {
   "cell_type": "code",
   "execution_count": 8,
   "metadata": {},
   "outputs": [
    {
     "data": {
      "image/png": "[encoded data removed]",
      "text/plain": [
       "<matplotlib.figure.Figure at 0x1c6508bda58>"
      ]
     },
     "metadata": {},
     "output_type": "display_data"
    }
   ],
   "source": [
    "plot_rawdata(Data)\n",
    "#import plotly.plotly as py\n",
    "#from plotly.graph_objs import *\n",
    "#py.iplot(Data)"
   ]
  },
  {
   "cell_type": "markdown",
   "metadata": {},
   "source": [
    "### Power Spectral Density (Optional)"
   ]
  },
  {
   "cell_type": "markdown",
   "metadata": {},
   "source": [
    "Use the settings code block to set your frequency bands to calculate area under the curve. This block is not required. band output is always in raw power, even if the graph scale is dB/Hz.\n",
    "\n",
    "[Power Spectral Density: Signal](https://github.com/drcgw/bass/wiki/Single-Wave-Interactive-Protocol#power-spectral-density-optional)"
   ]
  },
  {
   "cell_type": "code",
   "execution_count": 9,
   "metadata": {
    "collapsed": true
   },
   "outputs": [],
   "source": [
    "#optional\n",
    "Settings['PSD-Signal'] = Series(index = ['ULF', 'VLF', 'LF','HF', 'UHF','dx'])\n",
    "\n",
    "#Set PSD ranges for power in band\n",
    "Settings['PSD-Signal']['ULF'] = 5 #max of the range of the ultra low freq band. range is 0:ulf\n",
    "Settings['PSD-Signal']['VLF'] = 9 #max of the range of the very low freq band. range is ulf:vlf\n",
    "Settings['PSD-Signal']['LF'] = 12 #max of the range of the low freq band. range is vlf:lf\n",
    "Settings['PSD-Signal']['HF'] = 20 #max of the range of the high freq band. range is lf:hf. hf can be no more than (hz/2) where hz is the sampling frequency\n",
    "Settings['PSD-Signal']['UHF'] = 50 #max of the range of the ultra high freq band. range is hf:uhf. uhf can be no more than (hz/2) where hz is the sampling frequency\n",
    "Settings['PSD-Signal']['dx'] = 2 #segmentation for integration of the area under the curve. "
   ]
  },
  {
   "cell_type": "markdown",
   "metadata": {},
   "source": [
    "Use the block below to generate the PSD graph and power in bands results (if selected). scale toggles which units to use for the graph:\n",
    "    \n",
    "    raw = s^2/Hz\n",
    "    db = dB/Hz = 10*log10(s^2/Hz)\n",
    "    \n",
    "Graph and table are automatically saved in the `PSD-Signal` subfolder."
   ]
  },
  {
   "cell_type": "code",
   "execution_count": 10,
   "metadata": {},
   "outputs": [
    {
     "data": {
      "image/png": "[encoded data removed]",
      "text/plain": [
       "<matplotlib.figure.Figure at 0x1c65519dc88>"
      ]
     },
     "metadata": {},
     "output_type": "display_data"
    },
    {
     "data": {
      "text/html": [
       "<div>\n",
       "<style>\n",
       "    .dataframe thead tr:only-child th {\n",
       "        text-align: right;\n",
       "    }\n",
       "\n",
       "    .dataframe thead th {\n",
       "        text-align: left;\n",
       "    }\n",
       "\n",
       "    .dataframe tbody tr th {\n",
       "        vertical-align: top;\n",
       "    }\n",
       "</style>\n",
       "<table border=\"1\" class=\"dataframe\">\n",
       "  <thead>\n",
       "    <tr style=\"text-align: right;\">\n",
       "      <th></th>\n",
       "      <th>MeanVar1</th>\n",
       "    </tr>\n",
       "  </thead>\n",
       "  <tbody>\n",
       "    <tr>\n",
       "      <th>ULF</th>\n",
       "      <td>0.0105889</td>\n",
       "    </tr>\n",
       "    <tr>\n",
       "      <th>VLF</th>\n",
       "      <td>0.00680363</td>\n",
       "    </tr>\n",
       "    <tr>\n",
       "      <th>LF</th>\n",
       "      <td>0.00146572</td>\n",
       "    </tr>\n",
       "    <tr>\n",
       "      <th>HF</th>\n",
       "      <td>0.00237411</td>\n",
       "    </tr>\n",
       "    <tr>\n",
       "      <th>UHF</th>\n",
       "      <td>0.00352636</td>\n",
       "    </tr>\n",
       "    <tr>\n",
       "      <th>LF/HF</th>\n",
       "      <td>0.617375</td>\n",
       "    </tr>\n",
       "    <tr>\n",
       "      <th>Scale</th>\n",
       "      <td>s^2/Hz</td>\n",
       "    </tr>\n",
       "  </tbody>\n",
       "</table>\n",
       "</div>"
      ],
      "text/plain": [
       "         MeanVar1\n",
       "ULF     0.0105889\n",
       "VLF    0.00680363\n",
       "LF     0.00146572\n",
       "HF     0.00237411\n",
       "UHF    0.00352636\n",
       "LF/HF    0.617375\n",
       "Scale      s^2/Hz"
      ]
     },
     "execution_count": 10,
     "metadata": {},
     "output_type": "execute_result"
    }
   ],
   "source": [
    "scale = 'raw' #raw or db\n",
    "Results = psd_signal(version = 'original', key = 'MeanVar1', scale = scale, \n",
    "                     Data = Data, Settings = Settings, Results = Results)\n",
    "Results['PSD-Signal']"
   ]
  },
  {
   "cell_type": "markdown",
   "metadata": {},
   "source": [
    "### Spectrogram (Optional)"
   ]
  },
  {
   "cell_type": "markdown",
   "metadata": {},
   "source": [
    "Use the block below to get the spectrogram of the signal. The frequency (y-axis) scales automatically to only show 'active' frequencies. This can take some time to run. \n",
    "\n",
    "    version = 'original'\n",
    "    key = 'Mean1'\n",
    "\n",
    "After transformation is run, you can call version = 'trans'. This graph is not automatically saved.\n",
    "\n",
    "[Spectrogram](https://github.com/drcgw/bass/wiki/Single-Wave-Interactive-Protocol#spectrogram)"
   ]
  },
  {
   "cell_type": "code",
   "execution_count": 11,
   "metadata": {},
   "outputs": [
    {
     "data": {
      "image/png": "[encoded data removed]",
      "text/plain": [
       "<matplotlib.figure.Figure at 0x1c6577a7438>"
      ]
     },
     "metadata": {},
     "output_type": "display_data"
    }
   ],
   "source": [
    "version = 'original'\n",
    "key = 'MeanVar1'\n",
    "spectogram(version, key, Data, Settings, Results)"
   ]
  },
  {
   "cell_type": "markdown",
   "metadata": {},
   "source": [
    "# Transforming Data"
   ]
  },
  {
   "cell_type": "markdown",
   "metadata": {},
   "source": [
    "Must be done for each new uploaded data file.\n",
    "\n",
    "**WARNING:** If you do not load a settings file OR enter your own settings, the analysis will not run. There are no defaults. This section is not optional.\n",
    "\n",
    "[Transforming Data](https://github.com/drcgw/bass/wiki/Single-Wave-Interactive-Protocol#transforming-data)"
   ]
  },
  {
   "cell_type": "markdown",
   "metadata": {},
   "source": [
    "## Load settings from a file"
   ]
  },
  {
   "cell_type": "markdown",
   "metadata": {},
   "source": [
    "Must be a previously outputed BASS settings file, although the name can be changed. Expected format is '.csv'. Enter the full file path and name.\n",
    "\n",
    "    Mac OSX Example: '/Users/MYNAME/Documents/rat34_Settings.csv'\n",
    "    Microsoft Example: 'C:\\\\Users\\MYNAME\\Documents\\rat34_Settings.csv'\n",
    "    \n",
    "See above instructions for how to load your data file.\n",
    "\n",
    "**Warning!!** You must load a settings file or specify your settings below. There are no defaults\n",
    "\n",
    "[Loading Settings](https://github.com/drcgw/bass/wiki/Single-Wave-Interactive-Protocol#load-settings-from-a-file)"
   ]
  },
  {
   "cell_type": "code",
   "execution_count": null,
   "metadata": {
    "collapsed": true
   },
   "outputs": [],
   "source": [
    "Settings = load_settings_interact(Settings)\n",
    "#Settings_display = display_settings(Settings)\n",
    "##Settings_display"
   ]
  },
  {
   "cell_type": "markdown",
   "metadata": {},
   "source": [
    "## Enter your settings for data transformation"
   ]
  },
  {
   "cell_type": "markdown",
   "metadata": {},
   "source": [
    "**WARNING:** If you do not load a settings file OR enter your own settings, the analysis will not run. There are no defaults. This section is not optional.\n",
    "\n",
    "Enter the parameters of the functions you would like to use to transform your data. \n",
    "If you do not want to use a function, enter 'none'\n",
    "\n",
    "For more help on settings:\n",
    "\n",
    "[Transformation Settings](https://github.com/drcgw/bass/wiki/Single-Wave-Interactive-Protocol#enter-your-settings-for-data-transformation)"
   ]
  },
  {
   "cell_type": "code",
   "execution_count": 12,
   "metadata": {},
   "outputs": [
    {
     "name": "stdout",
     "output_type": "stream",
     "text": [
      "Enter True or False to turn on or off the linear fit.\n",
      "Linear Fit (True/False): False\n",
      "Enter the butterworth bandpass settings seperated by a comma. cuts are in hertz and poly should be an interger.\n",
      "Bandpass Settings (lowcut, highcut,polynomial): 0.5, 100, 4\n",
      "Enter the Savitzky Golay filter settings seperated by a comma. Window size must be odd.\n",
      "Savitzky Golay Settings (window, polynomial): 251, 3\n",
      "Settings Saved\n"
     ]
    }
   ],
   "source": [
    "Settings = user_input_trans(Settings)"
   ]
  },
  {
   "cell_type": "markdown",
   "metadata": {},
   "source": [
    "##Run data transformation\n",
    "\n",
    "**This Block Is Not Optional**\n",
    "\n",
    "[Transform](https://github.com/drcgw/bass/wiki/Single-Wave-Interactive-Protocol#run-data-transformation)"
   ]
  },
  {
   "cell_type": "code",
   "execution_count": 13,
   "metadata": {},
   "outputs": [
    {
     "data": {
      "image/png": "[encoded data removed]",
      "text/plain": [
       "<matplotlib.figure.Figure at 0x1c65791c358>"
      ]
     },
     "metadata": {},
     "output_type": "display_data"
    }
   ],
   "source": [
    "Data, Settings = transform_wrapper(Data, Settings)\n",
    "graph_ts(Data, Settings, Results)"
   ]
  },
  {
   "cell_type": "markdown",
   "metadata": {},
   "source": [
    "## Set Baseline for Thresholding"
   ]
  },
  {
   "cell_type": "markdown",
   "metadata": {},
   "source": [
    "**WARNING** If you do not load a settings file OR enter your own settings, the analysis will not run. There are no defaults. This section is not optional.\n",
    "\n",
    "[Baseline](https://github.com/drcgw/bass/wiki/Single-Wave-Interactive-Protocol#set-baseline-for-thresholding)"
   ]
  },
  {
   "cell_type": "markdown",
   "metadata": {},
   "source": [
    "### Choose either linear or rolling baseline.\n",
    "\n",
    "[Linear](https://github.com/drcgw/bass/wiki/Single-Wave-Interactive-Protocol#linear) - takes a user specified time segment as a good representation of baseline. If the superstructure is linear but has a slope, use linear fit in the transformation to still use linear. Linear automatically shifts your data by the ammount of your baseline normalize the baseline to zero.\n",
    "\n",
    "[Rolling](https://github.com/drcgw/bass/wiki/Single-Wave-Interactive-Protocol#rolling) - rolling mean of the data is generated based on a moving window. User provides the window size in miliseconds. there is no shift in the data with this method.\n",
    "\n",
    "[Static](https://github.com/drcgw/bass/wiki/Single-Wave-Interactive-Protocol#static) - Skips baseline generatoin and allows you to choose an arbitrary y value for threshold. No Shift in the data."
   ]
  },
  {
   "cell_type": "code",
   "execution_count": 14,
   "metadata": {},
   "outputs": [
    {
     "name": "stdout",
     "output_type": "stream",
     "text": [
      "Enter Linear, Rolling, or Static: Static\n"
     ]
    }
   ],
   "source": [
    "Settings = user_input_base(Settings)"
   ]
  },
  {
   "cell_type": "markdown",
   "metadata": {},
   "source": [
    "### Run baseline\n",
    "\n",
    "[Generate Baseline](https://github.com/drcgw/bass/wiki/Single-Wave-Interactive-Protocol#run-baseline)"
   ]
  },
  {
   "cell_type": "code",
   "execution_count": 15,
   "metadata": {},
   "outputs": [
    {
     "data": {
      "image/png": "[encoded data removed]",
      "text/plain": [
       "<matplotlib.figure.Figure at 0x1c657ad77b8>"
      ]
     },
     "metadata": {},
     "output_type": "display_data"
    }
   ],
   "source": [
    "Data, Settings, Results = baseline_wrapper(Data, Settings, Results)\n",
    "graph_ts(Data, Settings, Results)"
   ]
  },
  {
   "cell_type": "markdown",
   "metadata": {},
   "source": [
    "## Display Settings (Optional)\n",
    "\n",
    "Optional block. Run this at any time to check what your settings are. If it does not appear, it has not been set yet.\n",
    "\n",
    "[Display Settings](https://github.com/drcgw/bass/wiki/Single-Wave-Interactive-Protocol#display-settings)"
   ]
  },
  {
   "cell_type": "code",
   "execution_count": 12,
   "metadata": {},
   "outputs": [
    {
     "name": "stdout",
     "output_type": "stream",
     "text": [
      "{'folder': 'C:\\\\Users\\\\nils\\\\Documents\\\\GitHub\\\\bass', 'Label': 'KORDDJ2-SalB-selection-eeg.txt', 'Output Folder': 'C:\\\\Users\\\\nils\\\\Documents\\\\GitHub\\\\bass', 'Graph LCpro events': False, 'File Type': 'Plain', 'Milliseconds': False, 'plots folder': 'C:\\\\Users\\\\nils\\\\Documents\\\\GitHub\\\\bass/plots', 'Sample Rate (s/frame)': 0.001, 'PSD-Signal': ULF     5.0\n",
      "VLF     9.0\n",
      "LF     12.0\n",
      "HF     20.0\n",
      "UHF    50.0\n",
      "dx      2.0\n",
      "dtype: float64, 'Linear Fit': False, 'Bandpass Lowcut': 0.5, 'Bandpass Highcut': 100.0, 'Bandpass Polynomial': 4, 'Savitzky-Golay Window Size': 301, 'Savitzky-Golay Polynomial': 4, 'Absolute Value': True, 'Baseline Type': 'rolling', 'Rolling Baseline Window': 4.0}\n"
     ]
    }
   ],
   "source": [
    "Settings_display = display_settings(Settings)\n",
    "Settings_display\n",
    "\n",
    "#attempt to display \n",
    "#print(Settings)\n",
    "\n",
    "#attempt 2\n",
    "#for x in Settings_display:\n",
    "   # print (x)\n",
    "    #for y in Settings_display:\n",
    "       # print (y)\n",
    "print(Settings)"
   ]
  },
  {
   "cell_type": "markdown",
   "metadata": {},
   "source": [
    "# Event Detection\n",
    "\n",
    "#Peaks\n",
    "\n",
    "Peaks are local maxima, defined by local minima on either side of them. [Click here for more information about this algorithm](http://billauer.co.il/peakdet.html)\n",
    "\n",
    "## Peak Detection Settings\n",
    "\n",
    "Run the Following Block of code to enter or change peak detection settings. If you have loaded settings from a previous file, you do not need to run this block.\n",
    "\n",
    "[Peak Detection Settings](https://github.com/drcgw/bass/wiki/Single-Wave-Interactive-Protocol#peak-detection-settings)"
   ]
  },
  {
   "cell_type": "code",
   "execution_count": 18,
   "metadata": {},
   "outputs": [
    {
     "name": "stdout",
     "output_type": "stream",
     "text": [
      "Previous delta value: 0.25\n",
      "Enter delta value between 0 and 0.5051: 0.05\n",
      "Previous Peak minimum value: 0.0005\n",
      "Enter Peak Minimum value between 0.0005 and 0.5056: 0\n",
      "Previous Peak Maximum value: 0.5056\n",
      "Enter Peak Maximum value between 0.0 and 0.5056: 0.5056\n"
     ]
    }
   ],
   "source": [
    "Settings = event_peakdet_settings(Data, Settings)"
   ]
  },
  {
   "cell_type": "markdown",
   "metadata": {},
   "source": [
    "### Run Event Peak Detection\n",
    "\n",
    "Run block of code below to run peak deteaction. This block will print a summary table of the all available peak measurments.\n",
    "\n",
    "[Peak Detection](https://github.com/drcgw/bass/wiki/Single-Wave-Interactive-Protocol#run-event-peak-detection)"
   ]
  },
  {
   "cell_type": "code",
   "execution_count": 19,
   "metadata": {},
   "outputs": [
    {
     "data": {
      "text/html": [
       "<div>\n",
       "<style>\n",
       "    .dataframe thead tr:only-child th {\n",
       "        text-align: right;\n",
       "    }\n",
       "\n",
       "    .dataframe thead th {\n",
       "        text-align: left;\n",
       "    }\n",
       "\n",
       "    .dataframe tbody tr th {\n",
       "        vertical-align: top;\n",
       "    }\n",
       "</style>\n",
       "<table border=\"1\" class=\"dataframe\">\n",
       "  <thead>\n",
       "    <tr>\n",
       "      <th></th>\n",
       "      <th colspan=\"8\" halign=\"left\">Peaks Amplitude</th>\n",
       "      <th colspan=\"8\" halign=\"left\">Intervals</th>\n",
       "    </tr>\n",
       "    <tr>\n",
       "      <th></th>\n",
       "      <th>count</th>\n",
       "      <th>mean</th>\n",
       "      <th>std</th>\n",
       "      <th>min</th>\n",
       "      <th>25%</th>\n",
       "      <th>50%</th>\n",
       "      <th>75%</th>\n",
       "      <th>max</th>\n",
       "      <th>count</th>\n",
       "      <th>mean</th>\n",
       "      <th>std</th>\n",
       "      <th>min</th>\n",
       "      <th>25%</th>\n",
       "      <th>50%</th>\n",
       "      <th>75%</th>\n",
       "      <th>max</th>\n",
       "    </tr>\n",
       "  </thead>\n",
       "  <tbody>\n",
       "    <tr>\n",
       "      <th>MeanVar1</th>\n",
       "      <td>236.0</td>\n",
       "      <td>0.200143</td>\n",
       "      <td>0.053558</td>\n",
       "      <td>0.105396</td>\n",
       "      <td>0.161915</td>\n",
       "      <td>0.189779</td>\n",
       "      <td>0.225965</td>\n",
       "      <td>0.409432</td>\n",
       "      <td>235.0</td>\n",
       "      <td>0.413787</td>\n",
       "      <td>0.244026</td>\n",
       "      <td>0.105</td>\n",
       "      <td>0.247</td>\n",
       "      <td>0.358</td>\n",
       "      <td>0.499</td>\n",
       "      <td>2.385</td>\n",
       "    </tr>\n",
       "  </tbody>\n",
       "</table>\n",
       "</div>"
      ],
      "text/plain": [
       "         Peaks Amplitude                                                    \\\n",
       "                   count      mean       std       min       25%       50%   \n",
       "MeanVar1           236.0  0.200143  0.053558  0.105396  0.161915  0.189779   \n",
       "\n",
       "                             Intervals                                    \\\n",
       "               75%       max     count      mean       std    min    25%   \n",
       "MeanVar1  0.225965  0.409432     235.0  0.413787  0.244026  0.105  0.247   \n",
       "\n",
       "                               \n",
       "            50%    75%    max  \n",
       "MeanVar1  0.358  0.499  2.385  "
      ]
     },
     "execution_count": 19,
     "metadata": {},
     "output_type": "execute_result"
    }
   ],
   "source": [
    "Results = event_peakdet_wrapper(Data, Settings, Results)\n",
    "Results['Peaks-Master'].groupby(level=0).describe()"
   ]
  },
  {
   "cell_type": "markdown",
   "metadata": {},
   "source": [
    "### Plot Events (Optional)"
   ]
  },
  {
   "cell_type": "markdown",
   "metadata": {},
   "source": [
    "Use the block below to visualize event detection. Peaks are blue triangles. Valleys are pink triangles.\n",
    "\n",
    "[Visualize Events](https://github.com/drcgw/bass/wiki/Single-Wave-Interactive-Protocol#plot-events)"
   ]
  },
  {
   "cell_type": "code",
   "execution_count": 20,
   "metadata": {},
   "outputs": [
    {
     "data": {
      "image/png": "[encoded data removed]",
      "text/plain": [
       "<matplotlib.figure.Figure at 0x1c657ad7ba8>"
      ]
     },
     "metadata": {},
     "output_type": "display_data"
    }
   ],
   "source": [
    "graph_ts(Data, Settings, Results)"
   ]
  },
  {
   "cell_type": "markdown",
   "metadata": {},
   "source": [
    "##Bursts\n",
    "Bursts are the boundaries of events defined by their amplitudes, which are greater than the set threshold\n",
    "\n",
    "### Enter Burst Settings\n",
    "\n",
    "Run the Following Block of code to enter or change burst detection settings. If you have loaded settings from a previous file, you do not need to run this block.\n",
    "\n",
    "[Burst Settings](https://github.com/drcgw/bass/wiki/Single-Wave-Interactive-Protocol#enter-burst-settings)"
   ]
  },
  {
   "cell_type": "code",
   "execution_count": 30,
   "metadata": {},
   "outputs": [
    {
     "name": "stdout",
     "output_type": "stream",
     "text": [
      "Previous threshold value: 0.1\n",
      "Enter a threshold value between 0.0005 and 0.5056: 0.0\n",
      "Previous interval value: 5.0\n",
      "Enter the minimum inter-event interval in seconds:1\n",
      "Previous Minimum Burst Duration value: 5.0\n",
      "Enter the minimum burst duration in seconds:1\n",
      "Previous Maximum Burst Duration value: 60.0\n",
      "Enter the maximum burst duration in seconds:90\n",
      "Previous Minimum Peaks per Burst number: 10\n",
      "Enter the minimum number of peaks per burst:2\n",
      "Previous Burst Area setting: True\n",
      "Do you want to calculate Burst Area? (True/False):False\n",
      "Previous Exclude Edges setting: True\n",
      "Do you want to Exclude Edges? (True/False):False\n"
     ]
    }
   ],
   "source": [
    "Settings = event_burstdet_settings(Data, Settings, Results)"
   ]
  },
  {
   "cell_type": "markdown",
   "metadata": {},
   "source": [
    "### Run Event Burst Detection\n",
    "\n",
    "Run block of code below to run burst deteaction. \n",
    "\n",
    "This block will print a summary table of all available burst measurements.\n",
    "\n",
    "[Burst Detection](https://github.com/drcgw/bass/wiki/Single-Wave-Interactive-Protocol#run-event-burst-detection)"
   ]
  },
  {
   "cell_type": "code",
   "execution_count": 31,
   "metadata": {},
   "outputs": [
    {
     "name": "stdout",
     "output_type": "stream",
     "text": [
      "MeanVar1has no bursts.\n",
      "No Bursts Found in any time series.\n"
     ]
    },
    {
     "data": {
      "text/plain": [
       "Series([], dtype: float64)"
      ]
     },
     "execution_count": 31,
     "metadata": {},
     "output_type": "execute_result"
    }
   ],
   "source": [
    "Results = event_burstdet_wrapper(Data, Settings, Results)\n",
    "Results['Bursts-Master'].groupby(level=0).describe()"
   ]
  },
  {
   "cell_type": "markdown",
   "metadata": {},
   "source": [
    "\n",
    "### Plot Events (Optional)\n",
    "\n",
    "Call a column of data by its key (column name). Default name for one column of data is 'Mean1'\n",
    "\n",
    "[Visualize Bursts](https://github.com/drcgw/bass/wiki/Single-Wave-Interactive-Protocol#plot-events-optional)"
   ]
  },
  {
   "cell_type": "code",
   "execution_count": 23,
   "metadata": {},
   "outputs": [
    {
     "data": {
      "image/png": "[encoded data removed]",
      "text/plain": [
       "<matplotlib.figure.Figure at 0x1c657be55f8>"
      ]
     },
     "metadata": {},
     "output_type": "display_data"
    }
   ],
   "source": [
    "key = 'MeanVar1'\n",
    "graph_ts(Data, Settings, Results, key)"
   ]
  },
  {
   "cell_type": "markdown",
   "metadata": {},
   "source": [
    "## Save all files and settings"
   ]
  },
  {
   "cell_type": "markdown",
   "metadata": {},
   "source": [
    "[Save Event Tables and Settings](https://github.com/drcgw/bass/wiki/Single-Wave-Interactive-Protocol#save-all-files-and-settings)"
   ]
  },
  {
   "cell_type": "code",
   "execution_count": 24,
   "metadata": {
    "collapsed": true
   },
   "outputs": [],
   "source": [
    "Settings_panda = pd.DataFrame.from_dict(Settings, orient='index')\n",
    "now = datetime.datetime.now()\n",
    "Settings_panda.columns = ['Settings: ' + str(now)]\n",
    "# Settings_panda = sorted(Settings_panda)\n",
    "Settings_panda.to_csv(r'%s/%s_Setting_%s.csv' % (Settings['Output Folder'], Settings['Label'], now.strftime('%Y_%m_%d__%H_%M_%S')))"
   ]
  },
  {
   "cell_type": "code",
   "execution_count": 25,
   "metadata": {},
   "outputs": [
    {
     "name": "stdout",
     "output_type": "stream",
     "text": [
      "All results saved to:  C:\\Users\\nils\\Documents\\GitHub\\bass\\output\n",
      "Thank you for chosing BASS.py for all your basic analysis needs. Proceed for graphs and event analysis.\n",
      "Analysis Complete\n",
      "\n",
      "--------------------------------------------\n",
      "Data Column Names/Keys\n",
      "-----\n",
      "MeanVar1\n",
      "\n",
      "--------------------------------------------\n",
      "Available Measurements from Peaks for further analysis:\n",
      "-----\n",
      "Peaks Amplitude\n",
      "Intervals\n",
      "\n",
      "--------------------------------------------\n",
      "Available Measurements from Bursts for further analysis:\n",
      "-----\n",
      "\n",
      "---------------------------\n",
      "|Event Detection Complete!|\n",
      "---------------------------\n"
     ]
    }
   ],
   "source": [
    "Save_Results(Data, Settings, Results)"
   ]
  },
  {
   "cell_type": "markdown",
   "metadata": {},
   "source": [
    "# Event Analysis\n",
    "\n",
    "Now that events are detected, you can analyze them using any of the optional blocks below. \n",
    "\n",
    "[More information about how to use this](https://github.com/drcgw/bass/wiki/Single-Wave-Interactive-Protocol#event-analysis)\n",
    "\n",
    "## Display Tables\n",
    "\n",
    "### Display Summary Results for Peaks"
   ]
  },
  {
   "cell_type": "code",
   "execution_count": 26,
   "metadata": {},
   "outputs": [
    {
     "data": {
      "text/html": [
       "<div>\n",
       "<style>\n",
       "    .dataframe thead tr:only-child th {\n",
       "        text-align: right;\n",
       "    }\n",
       "\n",
       "    .dataframe thead th {\n",
       "        text-align: left;\n",
       "    }\n",
       "\n",
       "    .dataframe tbody tr th {\n",
       "        vertical-align: top;\n",
       "    }\n",
       "</style>\n",
       "<table border=\"1\" class=\"dataframe\">\n",
       "  <thead>\n",
       "    <tr>\n",
       "      <th></th>\n",
       "      <th colspan=\"8\" halign=\"left\">Peaks Amplitude</th>\n",
       "      <th colspan=\"8\" halign=\"left\">Intervals</th>\n",
       "    </tr>\n",
       "    <tr>\n",
       "      <th></th>\n",
       "      <th>count</th>\n",
       "      <th>mean</th>\n",
       "      <th>std</th>\n",
       "      <th>min</th>\n",
       "      <th>25%</th>\n",
       "      <th>50%</th>\n",
       "      <th>75%</th>\n",
       "      <th>max</th>\n",
       "      <th>count</th>\n",
       "      <th>mean</th>\n",
       "      <th>std</th>\n",
       "      <th>min</th>\n",
       "      <th>25%</th>\n",
       "      <th>50%</th>\n",
       "      <th>75%</th>\n",
       "      <th>max</th>\n",
       "    </tr>\n",
       "  </thead>\n",
       "  <tbody>\n",
       "    <tr>\n",
       "      <th>MeanVar1</th>\n",
       "      <td>236.0</td>\n",
       "      <td>0.200143</td>\n",
       "      <td>0.053558</td>\n",
       "      <td>0.105396</td>\n",
       "      <td>0.161915</td>\n",
       "      <td>0.189779</td>\n",
       "      <td>0.225965</td>\n",
       "      <td>0.409432</td>\n",
       "      <td>235.0</td>\n",
       "      <td>0.413787</td>\n",
       "      <td>0.244026</td>\n",
       "      <td>0.105</td>\n",
       "      <td>0.247</td>\n",
       "      <td>0.358</td>\n",
       "      <td>0.499</td>\n",
       "      <td>2.385</td>\n",
       "    </tr>\n",
       "  </tbody>\n",
       "</table>\n",
       "</div>"
      ],
      "text/plain": [
       "         Peaks Amplitude                                                    \\\n",
       "                   count      mean       std       min       25%       50%   \n",
       "MeanVar1           236.0  0.200143  0.053558  0.105396  0.161915  0.189779   \n",
       "\n",
       "                             Intervals                                    \\\n",
       "               75%       max     count      mean       std    min    25%   \n",
       "MeanVar1  0.225965  0.409432     235.0  0.413787  0.244026  0.105  0.247   \n",
       "\n",
       "                               \n",
       "            50%    75%    max  \n",
       "MeanVar1  0.358  0.499  2.385  "
      ]
     },
     "execution_count": 26,
     "metadata": {},
     "output_type": "execute_result"
    }
   ],
   "source": [
    "#grouped summary for peaks\n",
    "Results['Peaks-Master'].groupby(level=0).describe()"
   ]
  },
  {
   "cell_type": "markdown",
   "metadata": {},
   "source": [
    "### Display Summary Results for Bursts"
   ]
  },
  {
   "cell_type": "code",
   "execution_count": 27,
   "metadata": {},
   "outputs": [
    {
     "data": {
      "text/plain": [
       "Series([], dtype: float64)"
      ]
     },
     "execution_count": 27,
     "metadata": {},
     "output_type": "execute_result"
    }
   ],
   "source": [
    "#grouped summary for bursts\n",
    "Results['Bursts-Master'].groupby(level=0).describe()"
   ]
  },
  {
   "cell_type": "markdown",
   "metadata": {},
   "source": [
    "## Results Plots\n",
    "\n",
    "### Poincare Plots\n",
    "\n",
    "Create a Poincare Plot of your favorite varible. Choose an event type (Peaks or Bursts), measurement type. Calling meas = 'All' is supported.\n",
    "\n",
    "Plots and tables are saved automatically\n",
    "\n",
    "Example:\n",
    "\n",
    "    event_type = 'Bursts'\n",
    "    meas = 'Burst Duration'\n",
    "\n",
    "[More on Poincare Plots](https://github.com/drcgw/bass/wiki/Single-Wave-Interactive-Protocol#poincare-plots)\n",
    "\n",
    "####Batch Poincare\n",
    "\n",
    "[Batch Poincare](https://github.com/drcgw/bass/wiki/Single-Wave-Interactive-Protocol#batch-poincare)"
   ]
  },
  {
   "cell_type": "code",
   "execution_count": 28,
   "metadata": {},
   "outputs": [
    {
     "name": "stdout",
     "output_type": "stream",
     "text": [
      "All Peaks measurements analyzed.\n"
     ]
    },
    {
     "data": {
      "text/html": [
       "<div>\n",
       "<style>\n",
       "    .dataframe thead tr:only-child th {\n",
       "        text-align: right;\n",
       "    }\n",
       "\n",
       "    .dataframe thead th {\n",
       "        text-align: left;\n",
       "    }\n",
       "\n",
       "    .dataframe tbody tr th {\n",
       "        vertical-align: top;\n",
       "    }\n",
       "</style>\n",
       "<table border=\"1\" class=\"dataframe\">\n",
       "  <thead>\n",
       "    <tr style=\"text-align: right;\">\n",
       "      <th></th>\n",
       "      <th></th>\n",
       "      <th>Peaks Amplitude</th>\n",
       "      <th>Intervals</th>\n",
       "    </tr>\n",
       "  </thead>\n",
       "  <tbody>\n",
       "    <tr>\n",
       "      <th>SD1</th>\n",
       "      <th>MeanVar1</th>\n",
       "      <td>0.042162</td>\n",
       "      <td>0.233001</td>\n",
       "    </tr>\n",
       "    <tr>\n",
       "      <th>SD2</th>\n",
       "      <th>MeanVar1</th>\n",
       "      <td>0.062536</td>\n",
       "      <td>0.253818</td>\n",
       "    </tr>\n",
       "  </tbody>\n",
       "</table>\n",
       "</div>"
      ],
      "text/plain": [
       "              Peaks Amplitude  Intervals\n",
       "SD1 MeanVar1         0.042162   0.233001\n",
       "SD2 MeanVar1         0.062536   0.253818"
      ]
     },
     "execution_count": 28,
     "metadata": {},
     "output_type": "execute_result"
    }
   ],
   "source": [
    "#Batch\n",
    "event_type = 'Peaks'\n",
    "meas = 'all'\n",
    "Results = poincare_batch(event_type, meas, Data, Settings, Results)\n",
    "pd.concat({'SD1':Results['Poincare SD1'],'SD2':Results['Poincare SD2']})"
   ]
  },
  {
   "cell_type": "markdown",
   "metadata": {},
   "source": [
    "####Quick Poincare Plot\n",
    "\n",
    "Quickly call one poincare plot for display. Plot and Table are not saved automatically. Choose an event type (Peaks or Bursts), measurement type, and key. Calling meas = 'All' is not supported.\n",
    "\n",
    "[Quick Poincare](https://github.com/drcgw/bass/wiki/Single-Wave-Interactive-Protocol#quick-poincare-plots)"
   ]
  },
  {
   "cell_type": "code",
   "execution_count": 29,
   "metadata": {},
   "outputs": [
    {
     "ename": "KeyError",
     "evalue": "'MeanVar1'",
     "output_type": "error",
     "traceback": [
      "\u001b[1;31m---------------------------------------------------------------------------\u001b[0m",
      "\u001b[1;31mKeyError\u001b[0m                                  Traceback (most recent call last)",
      "\u001b[1;32m<ipython-input-29-c140c7ea3f2e>\u001b[0m in \u001b[0;36m<module>\u001b[1;34m()\u001b[0m\n\u001b[0;32m      3\u001b[0m \u001b[0mmeas\u001b[0m \u001b[1;33m=\u001b[0m \u001b[1;34m'Burst Duration'\u001b[0m\u001b[1;33m\u001b[0m\u001b[0m\n\u001b[0;32m      4\u001b[0m \u001b[0mkey\u001b[0m \u001b[1;33m=\u001b[0m \u001b[1;34m'MeanVar1'\u001b[0m\u001b[1;33m\u001b[0m\u001b[0m\n\u001b[1;32m----> 5\u001b[1;33m \u001b[0mpoincare_plot\u001b[0m\u001b[1;33m(\u001b[0m\u001b[0mResults\u001b[0m\u001b[1;33m[\u001b[0m\u001b[0mevent_type\u001b[0m\u001b[1;33m]\u001b[0m\u001b[1;33m[\u001b[0m\u001b[0mkey\u001b[0m\u001b[1;33m]\u001b[0m\u001b[1;33m[\u001b[0m\u001b[0mmeas\u001b[0m\u001b[1;33m]\u001b[0m\u001b[1;33m)\u001b[0m\u001b[1;33m\u001b[0m\u001b[0m\n\u001b[0m",
      "\u001b[1;31mKeyError\u001b[0m: 'MeanVar1'"
     ]
    }
   ],
   "source": [
    "#quick\n",
    "event_type = 'Bursts'\n",
    "meas = 'Burst Duration'\n",
    "key = 'MeanVar1'\n",
    "poincare_plot(Results[event_type][key][meas])"
   ]
  },
  {
   "cell_type": "markdown",
   "metadata": {},
   "source": [
    "## Line Plots\n",
    "Create line plots of the raw data as well as the data analysis. \n",
    "\n",
    "Plots are saved by clicking the save button in the pop-up window with your graph.\n",
    "\n",
    "    key = 'Mean1'\n",
    "    start =100 \n",
    "    end= 101\n",
    "\n",
    "[Results Line Plot](https://github.com/drcgw/bass/wiki/Single-Wave-Interactive-Protocol#line-plots)"
   ]
  },
  {
   "cell_type": "code",
   "execution_count": 25,
   "metadata": {},
   "outputs": [
    {
     "data": {
      "image/png": "[encoded data removed]",
      "text/plain": [
       "<matplotlib.figure.Figure at 0x23f93463898>"
      ]
     },
     "metadata": {},
     "output_type": "display_data"
    }
   ],
   "source": [
    "key = 'MeanVar1'\n",
    "start =100 #start time in seconds\n",
    "end= 101 #end time in seconds\n",
    "results_timeseries_plot(key, start, end, Data, Settings, Results)"
   ]
  },
  {
   "cell_type": "markdown",
   "metadata": {},
   "source": [
    "### Autocorrelation Plot\n",
    "Display the Autocorrelation plot of your transformed data.\n",
    "\n",
    "Choose the start and end time in seconds. May be slow\n",
    "\n",
    "    key = 'Mean1'\n",
    "    start = 0 \n",
    "    end = 10\n",
    "\n",
    "[Autocorrelation Plot](https://github.com/drcgw/bass/wiki/Single-Wave-Interactive-Protocol#autocorrelation)"
   ]
  },
  {
   "cell_type": "code",
   "execution_count": 26,
   "metadata": {},
   "outputs": [
    {
     "name": "stderr",
     "output_type": "stream",
     "text": [
      "C:\\Users\\nils\\Anaconda3\\lib\\site-packages\\ipykernel_launcher.py:5: FutureWarning: 'pandas.tools.plotting.autocorrelation_plot' is deprecated, import 'pandas.plotting.autocorrelation_plot' instead.\n",
      "  \"\"\"\n"
     ]
    },
    {
     "data": {
      "image/png": "[encoded data removed]",
      "text/plain": [
       "<matplotlib.figure.Figure at 0x23fd2531e10>"
      ]
     },
     "metadata": {},
     "output_type": "display_data"
    }
   ],
   "source": [
    "#autocorrelation\n",
    "key = 'MeanVar1'\n",
    "start = 0 #seconds, where you want the slice to begin\n",
    "end = 10 #seconds, where you want the slice to end.\n",
    "pd.tools.plotting.autocorrelation_plot(Data['trans'][key][start:end])\n",
    "plt.show()"
   ]
  },
  {
   "cell_type": "markdown",
   "metadata": {},
   "source": [
    "### Frequency Plot\n",
    "Use this block to plot changes of any measurement over time. Does not support 'all'. Example:\n",
    "\n",
    "    event_type = 'Peaks'\n",
    "    meas = 'Intervals'\n",
    "    key = 'Mean1'\n",
    "\n",
    "[Frequency Plot](https://github.com/drcgw/bass/wiki/Single-Wave-Interactive-Protocol#frequency-plot)"
   ]
  },
  {
   "cell_type": "code",
   "execution_count": 27,
   "metadata": {},
   "outputs": [
    {
     "data": {
      "image/png": "[encoded data removed]",
      "text/plain": [
       "<matplotlib.figure.Figure at 0x23f800e3d30>"
      ]
     },
     "metadata": {},
     "output_type": "display_data"
    }
   ],
   "source": [
    "event_type = 'Peaks'\n",
    "meas = 'Intervals'\n",
    "key = 'MeanVar1' #'Mean1' default for single wave\n",
    "frequency_plot(event_type, meas, key, Data, Settings, Results)"
   ]
  },
  {
   "cell_type": "markdown",
   "metadata": {},
   "source": [
    "## Power Spectral Density\n",
    "The following blocks allows you to asses the power of event measuments in the frequency domain. While you can call this block on any event measurement, it is intended to be used on interval data (or at least data with units in seconds). Reccomended:\n",
    "\n",
    "    event_type = 'Bursts'\n",
    "    meas = 'Total Cycle Time'\n",
    "    key = 'Mean1'\n",
    "    scale = 'raw'\n",
    "    \n",
    "    event_type = 'Peaks'\n",
    "    meas = 'Intervals'\n",
    "    key = 'Mean1'\n",
    "    scale = 'raw'\n",
    "\n",
    "Because this data is in the frequency domain, we must interpolate it in order to perform a FFT on it. Does not support 'all'.\n",
    "\n",
    "[Power Spectral Density: Events](https://github.com/drcgw/bass/wiki/Single-Wave-Interactive-Protocol#power-spectral-density)"
   ]
  },
  {
   "cell_type": "markdown",
   "metadata": {},
   "source": [
    "### Settings"
   ]
  },
  {
   "cell_type": "markdown",
   "metadata": {},
   "source": [
    "Use the code block below to specify your settings for event measurment PSD."
   ]
  },
  {
   "cell_type": "code",
   "execution_count": 28,
   "metadata": {
    "collapsed": true
   },
   "outputs": [],
   "source": [
    "Settings['PSD-Event'] = Series(index = ['Hz','ULF', 'VLF', 'LF','HF','dx'])\n",
    "#Set PSD ranges for power in band\n",
    "\n",
    "Settings['PSD-Event']['hz'] = 4.0 #freqency that the interpolation and PSD are performed with.\n",
    "Settings['PSD-Event']['ULF'] = 0.03 #max of the range of the ultra low freq band. range is 0:ulf\n",
    "Settings['PSD-Event']['VLF'] = 0.05 #max of the range of the very low freq band. range is ulf:vlf\n",
    "Settings['PSD-Event']['LF'] = 0.15 #max of the range of the low freq band. range is vlf:lf\n",
    "Settings['PSD-Event']['HF'] = 0.4 #max of the range of the high freq band. range is lf:hf. hf can be no more than (hz/2)\n",
    "Settings['PSD-Event']['dx'] = 10 #segmentation for the area under the curve. "
   ]
  },
  {
   "cell_type": "markdown",
   "metadata": {},
   "source": [
    "### Event PSD"
   ]
  },
  {
   "cell_type": "markdown",
   "metadata": {},
   "source": [
    "Use block below to return the PSD plot, as well as the power in the bands defined by the settings above."
   ]
  },
  {
   "cell_type": "code",
   "execution_count": 29,
   "metadata": {},
   "outputs": [
    {
     "data": {
      "image/png": "[encoded data removed]",
      "text/plain": [
       "<matplotlib.figure.Figure at 0x23f800e9978>"
      ]
     },
     "metadata": {},
     "output_type": "display_data"
    },
    {
     "data": {
      "text/html": [
       "<div>\n",
       "<style>\n",
       "    .dataframe thead tr:only-child th {\n",
       "        text-align: right;\n",
       "    }\n",
       "\n",
       "    .dataframe thead th {\n",
       "        text-align: left;\n",
       "    }\n",
       "\n",
       "    .dataframe tbody tr th {\n",
       "        vertical-align: top;\n",
       "    }\n",
       "</style>\n",
       "<table border=\"1\" class=\"dataframe\">\n",
       "  <thead>\n",
       "    <tr style=\"text-align: right;\">\n",
       "      <th></th>\n",
       "      <th>Total Cycle Time</th>\n",
       "    </tr>\n",
       "  </thead>\n",
       "  <tbody>\n",
       "    <tr>\n",
       "      <th>ULF</th>\n",
       "      <td>5.95617e-08</td>\n",
       "    </tr>\n",
       "    <tr>\n",
       "      <th>VLF</th>\n",
       "      <td>3.22392e-08</td>\n",
       "    </tr>\n",
       "    <tr>\n",
       "      <th>LF</th>\n",
       "      <td>4.80173e-09</td>\n",
       "    </tr>\n",
       "    <tr>\n",
       "      <th>HF</th>\n",
       "      <td>1.90824e-08</td>\n",
       "    </tr>\n",
       "    <tr>\n",
       "      <th>LF/HF</th>\n",
       "      <td>0.251631</td>\n",
       "    </tr>\n",
       "    <tr>\n",
       "      <th>Scale</th>\n",
       "      <td>s^2/Hz</td>\n",
       "    </tr>\n",
       "  </tbody>\n",
       "</table>\n",
       "</div>"
      ],
      "text/plain": [
       "      Total Cycle Time\n",
       "ULF        5.95617e-08\n",
       "VLF        3.22392e-08\n",
       "LF         4.80173e-09\n",
       "HF         1.90824e-08\n",
       "LF/HF         0.251631\n",
       "Scale           s^2/Hz"
      ]
     },
     "execution_count": 29,
     "metadata": {},
     "output_type": "execute_result"
    }
   ],
   "source": [
    "event_type = 'Bursts'\n",
    "meas = 'Total Cycle Time'\n",
    "key = 'MeanVar1'\n",
    "scale = 'raw'\n",
    "Results = psd_event(event_type, meas, key, scale, Data, Settings, Results)\n",
    "Results['PSD-Event'][key]"
   ]
  },
  {
   "cell_type": "markdown",
   "metadata": {},
   "source": [
    "## Analyze Events by Measurement\n",
    "Generates a line plot with error bars for a given event measurement. X axis is the names of each time series. Display Only. Intended for more than one column of data. This is not a box and whiskers plot.\n",
    "\n",
    "    event_type = 'peaks'\n",
    "    meas = 'Peaks Amplitude'\n",
    "    \n",
    "[Analyze Events by Measurement](https://github.com/drcgw/bass/wiki/Single-Wave-Interactive-Protocol#analyze-events-by-measurement)"
   ]
  },
  {
   "cell_type": "code",
   "execution_count": 30,
   "metadata": {},
   "outputs": [
    {
     "data": {
      "image/png": "[encoded data removed]",
      "text/plain": [
       "<matplotlib.figure.Figure at 0x23fd03c4978>"
      ]
     },
     "metadata": {},
     "output_type": "display_data"
    }
   ],
   "source": [
    "#Get average plots, display only\n",
    "event_type = 'peaks'\n",
    "meas = 'Peaks Amplitude'\n",
    "average_measurement_plot(event_type, meas, Results)"
   ]
  },
  {
   "cell_type": "markdown",
   "metadata": {},
   "source": [
    "## Moving/Sliding Averages, Standard Deviation, and Count\n",
    "Generates the moving **mean**, **standard deviation**, and **count** for a given measurement across all columns of the Data in the form of a DataFrame (displayed as a table).\n",
    "Saves out the dataframes of these three results automatically with the window size in the name as a .csv.\n",
    "If **meas == 'All'**, then the function will loop and produce these tables for all measurements.\n",
    "\n",
    "    event_type = 'Peaks'\n",
    "    meas = 'all'\n",
    "    window = 30\n",
    "    \n",
    "[Moving Stats](https://github.com/drcgw/bass/wiki/Single-Wave-Interactive-Protocol#analyze-events-by-measurement)"
   ]
  },
  {
   "cell_type": "code",
   "execution_count": 31,
   "metadata": {},
   "outputs": [
    {
     "name": "stdout",
     "output_type": "stream",
     "text": [
      "Peaks Amplitude Count\n",
      "     MeanVar1\n",
      "0       172.0\n",
      "30      170.0\n",
      "60      168.0\n",
      "90      165.0\n",
      "120     165.0\n",
      "150     162.0\n",
      "180     163.0\n",
      "210     162.0\n",
      "240     160.0\n",
      "270     160.0\n",
      "300     158.0\n",
      "330     156.0\n",
      "360     155.0\n",
      "390     154.0\n",
      "420     152.0\n",
      "450     151.0\n",
      "480     150.0\n",
      "510     153.0\n",
      "540     156.0\n",
      "570     156.0\n",
      "Peaks Amplitude Mean\n",
      "     MeanVar1\n",
      "0    0.454495\n",
      "30   0.461981\n",
      "60   0.467706\n",
      "90   0.472734\n",
      "120  0.472625\n",
      "150  0.439019\n",
      "180  0.465523\n",
      "210  0.479896\n",
      "240  0.533320\n",
      "270  0.536957\n",
      "300  0.540319\n",
      "330  0.541817\n",
      "360  0.539320\n",
      "390  0.543817\n",
      "420  0.543434\n",
      "450  0.539151\n",
      "480  0.544342\n",
      "510  0.561793\n",
      "540  0.577626\n",
      "570  0.582751\n",
      "Peaks Amplitude Std\n",
      "     MeanVar1\n",
      "0    0.012401\n",
      "30   0.013277\n",
      "60   0.012555\n",
      "90   0.012190\n",
      "120  0.013453\n",
      "150  0.019170\n",
      "180  0.012736\n",
      "210  0.033349\n",
      "240  0.014349\n",
      "270  0.013711\n",
      "300  0.015149\n",
      "330  0.015570\n",
      "360  0.016730\n",
      "390  0.016482\n",
      "420  0.016418\n",
      "450  0.015894\n",
      "480  0.017980\n",
      "510  0.016099\n",
      "540  0.016338\n",
      "570  0.017113\n",
      "Intervals Count\n",
      "     MeanVar1\n",
      "0       172.0\n",
      "30      170.0\n",
      "60      168.0\n",
      "90      165.0\n",
      "120     165.0\n",
      "150     162.0\n",
      "180     163.0\n",
      "210     162.0\n",
      "240     160.0\n",
      "270     160.0\n",
      "300     158.0\n",
      "330     156.0\n",
      "360     155.0\n",
      "390     154.0\n",
      "420     152.0\n",
      "450     151.0\n",
      "480     150.0\n",
      "510     153.0\n",
      "540     156.0\n",
      "570     156.0\n",
      "Intervals Mean\n",
      "     MeanVar1\n",
      "0    0.174321\n",
      "30   0.176628\n",
      "60   0.178769\n",
      "90   0.181071\n",
      "120  0.182465\n",
      "150  0.184519\n",
      "180  0.184462\n",
      "210  0.185549\n",
      "240  0.186553\n",
      "270  0.188005\n",
      "300  0.189924\n",
      "330  0.191732\n",
      "360  0.193385\n",
      "390  0.195140\n",
      "420  0.197551\n",
      "450  0.199411\n",
      "480  0.199803\n",
      "510  0.195095\n",
      "540  0.192989\n",
      "570  0.192426\n",
      "Intervals Std\n",
      "     MeanVar1\n",
      "0    0.002096\n",
      "30   0.001952\n",
      "60   0.001863\n",
      "90   0.001001\n",
      "120  0.000742\n",
      "150  0.000770\n",
      "180  0.000510\n",
      "210  0.000916\n",
      "240  0.001358\n",
      "270  0.001388\n",
      "300  0.001693\n",
      "330  0.001579\n",
      "360  0.001674\n",
      "390  0.001427\n",
      "420  0.000993\n",
      "450  0.000678\n",
      "480  0.001307\n",
      "510  0.001575\n",
      "540  0.001526\n",
      "570  0.001434\n",
      "All Peaks measurements analyzed.\n"
     ]
    }
   ],
   "source": [
    "#Moving Stats\n",
    "event_type = 'Peaks'\n",
    "meas = 'all'\n",
    "window = 30 #seconds\n",
    "Results = moving_statistics(event_type, meas, window, Data, Settings, Results)"
   ]
  },
  {
   "cell_type": "markdown",
   "metadata": {},
   "source": [
    "# Histogram Entropy\n",
    "Calculates the histogram entropy of a measurement for each column of data. Also saves the histogram of each. If meas is set to 'all', then all available measurements from the event_type chosen will be calculated iteratevely. \n",
    "\n",
    "If all of the samples fall in one bin regardless of the bin size, it means we have the most predictable sitution and the entropy is 0. If we have uniformly dist function, the max entropy will be 1\n",
    "\n",
    "    event_type = 'Bursts'\n",
    "    meas = 'all'\n",
    "\n",
    "[Histogram Entropy](https://github.com/drcgw/bass/wiki/Single-Wave-Interactive-Protocol#histentropy)"
   ]
  },
  {
   "cell_type": "code",
   "execution_count": 32,
   "metadata": {},
   "outputs": [
    {
     "name": "stdout",
     "output_type": "stream",
     "text": [
      "All Bursts measurements analyzed.\n"
     ]
    },
    {
     "data": {
      "text/html": [
       "<div>\n",
       "<style>\n",
       "    .dataframe thead tr:only-child th {\n",
       "        text-align: right;\n",
       "    }\n",
       "\n",
       "    .dataframe thead th {\n",
       "        text-align: left;\n",
       "    }\n",
       "\n",
       "    .dataframe tbody tr th {\n",
       "        vertical-align: top;\n",
       "    }\n",
       "</style>\n",
       "<table border=\"1\" class=\"dataframe\">\n",
       "  <thead>\n",
       "    <tr style=\"text-align: right;\">\n",
       "      <th></th>\n",
       "      <th>Burst Start</th>\n",
       "      <th>Burst End</th>\n",
       "      <th>Burst Duration</th>\n",
       "      <th>Edge Event</th>\n",
       "      <th>Interburst Interval</th>\n",
       "      <th>Total Cycle Time</th>\n",
       "      <th>Peaks per Burst</th>\n",
       "      <th>Peak Amp</th>\n",
       "      <th>Peak Time</th>\n",
       "      <th>Attack</th>\n",
       "      <th>Decay</th>\n",
       "      <th>Intraburst Frequency</th>\n",
       "      <th>Burst Area</th>\n",
       "    </tr>\n",
       "  </thead>\n",
       "  <tbody>\n",
       "    <tr>\n",
       "      <th>MeanVar1</th>\n",
       "      <td>0.985577</td>\n",
       "      <td>0.985577</td>\n",
       "      <td>0.903706</td>\n",
       "      <td>0.0</td>\n",
       "      <td>NaN</td>\n",
       "      <td>NaN</td>\n",
       "      <td>0.0</td>\n",
       "      <td>0.862453</td>\n",
       "      <td>0.985577</td>\n",
       "      <td>0.822277</td>\n",
       "      <td>0.775136</td>\n",
       "      <td>0.886988</td>\n",
       "      <td>0.911101</td>\n",
       "    </tr>\n",
       "  </tbody>\n",
       "</table>\n",
       "</div>"
      ],
      "text/plain": [
       "          Burst Start  Burst End  Burst Duration  Edge Event  \\\n",
       "MeanVar1     0.985577   0.985577        0.903706         0.0   \n",
       "\n",
       "          Interburst Interval  Total Cycle Time  Peaks per Burst  Peak Amp  \\\n",
       "MeanVar1                  NaN               NaN              0.0  0.862453   \n",
       "\n",
       "          Peak Time    Attack     Decay  Intraburst Frequency  Burst Area  \n",
       "MeanVar1   0.985577  0.822277  0.775136              0.886988    0.911101  "
      ]
     },
     "execution_count": 32,
     "metadata": {},
     "output_type": "execute_result"
    }
   ],
   "source": [
    "#Histogram Entropy\n",
    "event_type = 'Bursts'\n",
    "meas = 'all'\n",
    "Results = histent_wrapper(event_type, meas, Data, Settings, Results)\n",
    "Results['Histogram Entropy']"
   ]
  },
  {
   "cell_type": "markdown",
   "metadata": {},
   "source": [
    "# STOP HERE"
   ]
  },
  {
   "cell_type": "markdown",
   "metadata": {},
   "source": [
    "You can run another file be going back the the **Begin User Input** section and chose another file path.\n",
    "\n",
    "[What Should I do now?](https://github.com/drcgw/bass/wiki/Single-Wave-Interactive-Protocol#stop-here)"
   ]
  },
  {
   "cell_type": "markdown",
   "metadata": {},
   "source": [
    "# Advanced user options"
   ]
  },
  {
   "cell_type": "markdown",
   "metadata": {},
   "source": [
    "## Approximate entropy\n",
    "this only runs if you have pyeeg.py in the same folder as this notebook and bass.py. **WARNING: THIS FUNCTION RUNS SLOWLY**\n",
    "\n",
    "run the below code to get the approximate entropy of any measurement or raw signal. Returns the entropy of the entire results array (no windowing). I am using the following M and R values:\n",
    "\n",
    "    M = 2  \n",
    "    R = 0.2*std(measurement)\n",
    "    \n",
    "these values can be modified in the source code. alternatively, you can call ap_entropy directly. supports 'all'\n",
    "\n",
    "**Interpretation**: A time series containing many repetitive patterns has a relatively small ApEn; a less predictable process has a higher ApEn.\n",
    "\n",
    "[Approximate Entropy in BASS](https://github.com/drcgw/bass/wiki/Single-Wave-Interactive-Protocol#approximate-entropy)\n",
    "\n",
    "[Aproximate Entropy Source](http://pyeeg.sourceforge.net/)"
   ]
  },
  {
   "cell_type": "markdown",
   "metadata": {},
   "source": [
    "### Events"
   ]
  },
  {
   "cell_type": "code",
   "execution_count": 33,
   "metadata": {},
   "outputs": [
    {
     "name": "stdout",
     "output_type": "stream",
     "text": [
      "All Peaks measurements analyzed.\n"
     ]
    },
    {
     "data": {
      "text/html": [
       "<div>\n",
       "<style>\n",
       "    .dataframe thead tr:only-child th {\n",
       "        text-align: right;\n",
       "    }\n",
       "\n",
       "    .dataframe thead th {\n",
       "        text-align: left;\n",
       "    }\n",
       "\n",
       "    .dataframe tbody tr th {\n",
       "        vertical-align: top;\n",
       "    }\n",
       "</style>\n",
       "<table border=\"1\" class=\"dataframe\">\n",
       "  <thead>\n",
       "    <tr style=\"text-align: right;\">\n",
       "      <th></th>\n",
       "      <th>Peaks Amplitude</th>\n",
       "      <th>Intervals</th>\n",
       "    </tr>\n",
       "  </thead>\n",
       "  <tbody>\n",
       "    <tr>\n",
       "      <th>MeanVar1</th>\n",
       "      <td>1.051831</td>\n",
       "      <td>0.496873</td>\n",
       "    </tr>\n",
       "  </tbody>\n",
       "</table>\n",
       "</div>"
      ],
      "text/plain": [
       "          Peaks Amplitude  Intervals\n",
       "MeanVar1         1.051831   0.496873"
      ]
     },
     "execution_count": 33,
     "metadata": {},
     "output_type": "execute_result"
    }
   ],
   "source": [
    "#Approximate Entropy\n",
    "event_type = 'Peaks'\n",
    "meas = 'all'\n",
    "Results = ap_entropy_wrapper(event_type, meas, Data, Settings, Results)\n",
    "Results['Approximate Entropy']"
   ]
  },
  {
   "cell_type": "markdown",
   "metadata": {},
   "source": [
    "### Time Series"
   ]
  },
  {
   "cell_type": "code",
   "execution_count": 34,
   "metadata": {},
   "outputs": [
    {
     "data": {
      "text/plain": [
       "0.11170188999812228"
      ]
     },
     "execution_count": 34,
     "metadata": {},
     "output_type": "execute_result"
    }
   ],
   "source": [
    "#Approximate Entropy on raw signal\n",
    "#takes a VERY long time\n",
    "from pyeeg import ap_entropy\n",
    "\n",
    "version = 'original' #original, trans, shift, or rolling\n",
    "key = 'MeanVar1' #Mean1 default key for one time series\n",
    "start = 0 #seconds, where you want the slice to begin\n",
    "end = 1 #seconds, where you want the slice to end. The absolute end is -1\n",
    "\n",
    "ap_entropy(Data[version][key][start:end].tolist(), 2, (0.2*np.std(Data[version][key][start:end])))"
   ]
  },
  {
   "cell_type": "markdown",
   "metadata": {},
   "source": [
    "### Sample Entropy\n",
    "this only runs if you have pyeeg.py in the same folder as this notebook and bass.py. **WARNING: THIS FUNCTION RUNS SLOWLY**\n",
    "\n",
    "run the below code to get the sample entropy of any measurement. Returns the entropy of the entire results array (no windowing). I am using the following M and R values:\n",
    "\n",
    "    M = 2  \n",
    "    R = 0.2*std(measurement)\n",
    "    \n",
    "these values can be modified in the source code. alternatively, you can call samp_entropy directly. \n",
    "Supports 'all'\n",
    "\n",
    "[Sample Entropy in BASS](https://github.com/drcgw/bass/wiki/Single-Wave-Interactive-Protocol#sample-entropy)\n",
    "\n",
    "[Sample Entropy Source](http://pyeeg.sourceforge.net/)"
   ]
  },
  {
   "cell_type": "markdown",
   "metadata": {},
   "source": [
    "### Events"
   ]
  },
  {
   "cell_type": "code",
   "execution_count": 35,
   "metadata": {},
   "outputs": [
    {
     "name": "stdout",
     "output_type": "stream",
     "text": [
      "All Bursts measurements analyzed.\n"
     ]
    },
    {
     "data": {
      "text/html": [
       "<div>\n",
       "<style>\n",
       "    .dataframe thead tr:only-child th {\n",
       "        text-align: right;\n",
       "    }\n",
       "\n",
       "    .dataframe thead th {\n",
       "        text-align: left;\n",
       "    }\n",
       "\n",
       "    .dataframe tbody tr th {\n",
       "        vertical-align: top;\n",
       "    }\n",
       "</style>\n",
       "<table border=\"1\" class=\"dataframe\">\n",
       "  <thead>\n",
       "    <tr style=\"text-align: right;\">\n",
       "      <th></th>\n",
       "      <th>Burst Start</th>\n",
       "      <th>Burst End</th>\n",
       "      <th>Burst Duration</th>\n",
       "      <th>Edge Event</th>\n",
       "      <th>Interburst Interval</th>\n",
       "      <th>Total Cycle Time</th>\n",
       "      <th>Peaks per Burst</th>\n",
       "      <th>Peak Amp</th>\n",
       "      <th>Peak Time</th>\n",
       "      <th>Attack</th>\n",
       "      <th>Decay</th>\n",
       "      <th>Intraburst Frequency</th>\n",
       "      <th>Burst Area</th>\n",
       "    </tr>\n",
       "  </thead>\n",
       "  <tbody>\n",
       "    <tr>\n",
       "      <th>MeanVar1</th>\n",
       "      <td>0.00005</td>\n",
       "      <td>0.00005</td>\n",
       "      <td>1.38236</td>\n",
       "      <td>0.0</td>\n",
       "      <td>0.336196</td>\n",
       "      <td>0.353044</td>\n",
       "      <td>0.0</td>\n",
       "      <td>0.986362</td>\n",
       "      <td>0.000048</td>\n",
       "      <td>1.91932</td>\n",
       "      <td>1.946772</td>\n",
       "      <td>1.438391</td>\n",
       "      <td>1.300876</td>\n",
       "    </tr>\n",
       "  </tbody>\n",
       "</table>\n",
       "</div>"
      ],
      "text/plain": [
       "          Burst Start  Burst End  Burst Duration  Edge Event  \\\n",
       "MeanVar1      0.00005    0.00005         1.38236         0.0   \n",
       "\n",
       "          Interburst Interval  Total Cycle Time  Peaks per Burst  Peak Amp  \\\n",
       "MeanVar1             0.336196          0.353044              0.0  0.986362   \n",
       "\n",
       "          Peak Time   Attack     Decay  Intraburst Frequency  Burst Area  \n",
       "MeanVar1   0.000048  1.91932  1.946772              1.438391    1.300876  "
      ]
     },
     "execution_count": 35,
     "metadata": {},
     "output_type": "execute_result"
    }
   ],
   "source": [
    "#Sample Entropy\n",
    "event_type = 'Bursts'\n",
    "meas = 'all'\n",
    "Results = samp_entropy_wrapper(event_type, meas, Data, Settings, Results)\n",
    "Results['Sample Entropy']"
   ]
  },
  {
   "cell_type": "markdown",
   "metadata": {},
   "source": [
    "### Time Series"
   ]
  },
  {
   "cell_type": "code",
   "execution_count": 36,
   "metadata": {},
   "outputs": [
    {
     "ename": "NameError",
     "evalue": "name 'samp_entropy' is not defined",
     "output_type": "error",
     "traceback": [
      "\u001b[1;31m---------------------------------------------------------------------------\u001b[0m",
      "\u001b[1;31mNameError\u001b[0m                                 Traceback (most recent call last)",
      "\u001b[1;32m<ipython-input-36-04a338bcfc62>\u001b[0m in \u001b[0;36m<module>\u001b[1;34m()\u001b[0m\n\u001b[0;32m      6\u001b[0m \u001b[0mend\u001b[0m \u001b[1;33m=\u001b[0m \u001b[1;36m1\u001b[0m \u001b[1;31m#seconds, where you want the slice to end. The absolute end is -1\u001b[0m\u001b[1;33m\u001b[0m\u001b[0m\n\u001b[0;32m      7\u001b[0m \u001b[1;33m\u001b[0m\u001b[0m\n\u001b[1;32m----> 8\u001b[1;33m \u001b[0msamp_entropy\u001b[0m\u001b[1;33m(\u001b[0m\u001b[0mData\u001b[0m\u001b[1;33m[\u001b[0m\u001b[0mversion\u001b[0m\u001b[1;33m]\u001b[0m\u001b[1;33m[\u001b[0m\u001b[0mkey\u001b[0m\u001b[1;33m]\u001b[0m\u001b[1;33m[\u001b[0m\u001b[0mstart\u001b[0m\u001b[1;33m:\u001b[0m\u001b[0mend\u001b[0m\u001b[1;33m]\u001b[0m\u001b[1;33m.\u001b[0m\u001b[0mtolist\u001b[0m\u001b[1;33m(\u001b[0m\u001b[1;33m)\u001b[0m\u001b[1;33m,\u001b[0m \u001b[1;36m2\u001b[0m\u001b[1;33m,\u001b[0m \u001b[1;33m(\u001b[0m\u001b[1;36m0.2\u001b[0m\u001b[1;33m*\u001b[0m\u001b[0mnp\u001b[0m\u001b[1;33m.\u001b[0m\u001b[0mstd\u001b[0m\u001b[1;33m(\u001b[0m\u001b[0mData\u001b[0m\u001b[1;33m[\u001b[0m\u001b[0mversion\u001b[0m\u001b[1;33m]\u001b[0m\u001b[1;33m[\u001b[0m\u001b[0mkey\u001b[0m\u001b[1;33m]\u001b[0m\u001b[1;33m[\u001b[0m\u001b[0mstart\u001b[0m\u001b[1;33m:\u001b[0m\u001b[0mend\u001b[0m\u001b[1;33m]\u001b[0m\u001b[1;33m)\u001b[0m\u001b[1;33m)\u001b[0m\u001b[1;33m)\u001b[0m\u001b[1;33m\u001b[0m\u001b[0m\n\u001b[0m",
      "\u001b[1;31mNameError\u001b[0m: name 'samp_entropy' is not defined"
     ]
    }
   ],
   "source": [
    "#on raw signal\n",
    "#takes a VERY long time\n",
    "version = 'original' #original, trans, shift, or rolling\n",
    "key = 'MeanVar1' #Mean1 default key for one time series\n",
    "start = 0 #seconds, where you want the slice to begin\n",
    "end = 1 #seconds, where you want the slice to end. The absolute end is -1\n",
    "\n",
    "samp_entropy(Data[version][key][start:end].tolist(), 2, (0.2*np.std(Data[version][key][start:end])))"
   ]
  },
  {
   "cell_type": "markdown",
   "metadata": {},
   "source": [
    "# Blank Code block"
   ]
  },
  {
   "cell_type": "markdown",
   "metadata": {},
   "source": [
    "you're still here, reading? you must be a dedicated super user!\n",
    "\n",
    "If that is the case, then you must know how to code in Python. Use this space to get crazy with your own advanced analysis and stuff.\n",
    "\n",
    "[Blank Code Block](https://github.com/drcgw/bass/wiki/Single-Wave-Interactive-Protocol#blank-code-block)"
   ]
  },
  {
   "cell_type": "code",
   "execution_count": 37,
   "metadata": {
    "collapsed": true
   },
   "outputs": [],
   "source": [
    "settings_temp = pd.read_csv(r'C:\\Users\\nils\\bass-py3-update\\rat34_Settingsnk.csv', index_col=0, header=0, sep='\\t')"
   ]
  },
  {
   "cell_type": "code",
   "execution_count": null,
   "metadata": {
    "collapsed": true
   },
   "outputs": [],
   "source": [
    "print(settings_temp)"
   ]
  },
  {
   "cell_type": "code",
   "execution_count": null,
   "metadata": {
    "collapsed": true
   },
   "outputs": [],
   "source": [
    "a=input('test something: ')\n",
    "#b=int(a)\n",
    "print(a)\n",
    "b=a.split(', ')\n",
    "#print(b)\n",
    "c=b[0]\n",
    "d=b[1]\n",
    "c=float(c)\n",
    "c=int(c)\n",
    "if c % 2 == 0:\n",
    "    print('uhoh')"
   ]
  },
  {
   "cell_type": "code",
   "execution_count": 2,
   "metadata": {},
   "outputs": [
    {
     "ename": "NameError",
     "evalue": "name 'df' is not defined",
     "output_type": "error",
     "traceback": [
      "\u001b[1;31m---------------------------------------------------------------------------\u001b[0m",
      "\u001b[1;31mNameError\u001b[0m                                 Traceback (most recent call last)",
      "\u001b[1;32m<ipython-input-2-c2bcad6e252a>\u001b[0m in \u001b[0;36m<module>\u001b[1;34m()\u001b[0m\n\u001b[0;32m      2\u001b[0m \u001b[1;32mfrom\u001b[0m \u001b[0mplotly\u001b[0m\u001b[1;33m.\u001b[0m\u001b[0mgraph_objs\u001b[0m \u001b[1;32mimport\u001b[0m \u001b[1;33m*\u001b[0m\u001b[1;33m\u001b[0m\u001b[0m\n\u001b[0;32m      3\u001b[0m \u001b[1;33m\u001b[0m\u001b[0m\n\u001b[1;32m----> 4\u001b[1;33m data = [Bar(x=df.School,\n\u001b[0m\u001b[0;32m      5\u001b[0m             y=df.gap)]\n\u001b[0;32m      6\u001b[0m \u001b[1;33m\u001b[0m\u001b[0m\n",
      "\u001b[1;31mNameError\u001b[0m: name 'df' is not defined"
     ]
    }
   ],
   "source": [
    "%matplotlib inline\n",
    "\n",
    "import matplotlib\n",
    "import numpy as np\n",
    "import matplotlib.pyplot as plt\n",
    "x = "
   ]
  },
  {
   "cell_type": "code",
   "execution_count": 9,
   "metadata": {
    "scrolled": true
   },
   "outputs": [
    {
     "data": {
      "text/plain": [
       "[<matplotlib.lines.Line2D at 0x1e938075470>]"
      ]
     },
     "execution_count": 9,
     "metadata": {},
     "output_type": "execute_result"
    }
   ],
   "source": [
    " if roi.lower() == 'random':\n",
    "        try:\n",
    "            # get random ROI number\n",
    "            rand_int = np.random.randint(len(Data['original'].columns))\n",
    "            roi = Data['original'].columns[rand_int]  # convert to column name\n",
    "        except:\n",
    "            # if random does not work, graph the first column of data\n",
    "            roi = Data['original'].columns[0]\n",
    "\n",
    "    plt.figure()  # start a new figure\n",
    "    plt.title(roi)  # set title of graph to just the name of the column\n",
    "    plt.xlabel('Time (s)')\n",
    "\n",
    "    # set the correct data array\n",
    "    try:\n",
    "        if Settings['Baseline Type'] == 'static':\n",
    "            data_temp = Data['trans']\n",
    "            plt.ylabel('Relative Amplitude (Transformed Data)')\n",
    "        elif Settings['Baseline Type'] == 'linear':\n",
    "            data_temp = Data['shift']\n",
    "            plt.ylabel('Relative Amplitude (Shifted Data)')\n",
    "        elif Settings['Baseline Type'] == 'rolling':\n",
    "            data_temp = Data['rolling']\n",
    "            plt.ylabel('Relative Amplitude (Transformed Data)')\n",
    "    except:  # if no baseline type is set\n",
    "        try:  # try using data trans\n",
    "            data_temp = Data['trans']\n",
    "            plt.ylabel('Relative Amplitude (Transformed Data)')\n",
    "        except:  # if not yet transformed, used original\n",
    "            data_temp = Data['original']\n",
    "            plt.ylabel('Amplitude (Raw Data)')\n",
    "\n",
    "    try:  # graph data\n",
    "        # plot time series\n",
    "        plt.plot(data_temp.index, data_temp[roi], color='k',\n",
    "                 label='Time Series')\n",
    "    except:\n",
    "        print('Time Series for %s could not be graphed' % (roi))\n",
    "\n",
    "    try:  # set limits\n",
    "        plt.ylim(ymin=min(data_temp.min()), ymax=max(data_temp.max()))\n",
    "        plt.xlim(xmin=data_temp.index[0], xmax=data_temp.index[-1])\n",
    "    except:\n",
    "        # default limits kick in. may be inconsistent if aligned btime series\n",
    "        pass\n",
    "\n",
    "    try:  # graph baseline\n",
    "        if Settings['Baseline Type'] == 'static':\n",
    "            pass  # there is no baseline MWAHAHAHAHA\n",
    "            # I guess I left this in here to be consistent\n",
    "            # and confuse you, you sweet, innocent little developer.\n",
    "            # and I left this comment to make you laugh.\n",
    "            # Oh god, this is my life...\n",
    "        elif Settings['Baseline Type'] == 'linear':\n",
    "            plt.hlines(0, Data['original'].index[0],\n",
    "                       Data['original'].index[-1], 'b', label='Baseline')\n",
    "\n",
    "        elif Settings['Baseline Type'] == 'rolling':\n",
    "            # in this instance, baseline = rolling average\n",
    "            plt.plot(Results['Baseline-Rolling'][roi].index,\n",
    "                     Results['Baseline-Rolling'][roi], 'b')\n",
    "\n",
    "    except:  # baseline has not yet been set\n",
    "        pass\n",
    "\n",
    "    try:  # graph threshold\n",
    "        if Settings['Baseline Type'] == 'static':\n",
    "            plt.hlines(Settings['Threshold'], Data['original'].index[0],\n",
    "                       Data['original'].index[-1], 'r', label='Threshold')\n",
    "\n",
    "        elif Settings['Baseline Type'] == 'linear':\n",
    "            plt.hlines(Results['Baseline'][roi] * Settings['Threshold'],\n",
    "                       Data['original'].index[0],\n",
    "                       Data['original'].index[-1], 'r', label='Threshold')\n",
    "\n",
    "        elif Settings['Baseline Type'] == 'rolling':\n",
    "            plt.plot(Results['Baseline-Rolling'][roi].index,\n",
    "                     Results['Baseline-Rolling'][roi] +\n",
    "                     Settings['Threshold'], 'r')\n",
    "    except:  # threshold has not yet been set\n",
    "        pass\n",
    "\n",
    "    # plot peaks\n",
    "    try:\n",
    "        plt.plot(Results['Peaks'][roi].index,\n",
    "                 Results['Peaks'][roi]['Peaks Amplitude'],\n",
    "                 marker='^', color='b', linestyle='None',\n",
    "                 alpha=1, label='Peak', markersize=5)\n",
    "    except:\n",
    "        pass\n",
    "    # plot valleys\n",
    "    try:\n",
    "        plt.plot(Results['Valleys'][roi].index,\n",
    "                 Results['Valleys'][roi]['Valley Amplitude'],\n",
    "                 marker='v', color='m', linestyle='None',\n",
    "                 alpha=1, label='Valley', markersize=5)\n",
    "    except:\n",
    "        pass\n",
    "    # plot bursts\n",
    "    try:\n",
    "        if Settings['Baseline Type'] == 'static':\n",
    "            start_y = []\n",
    "            end_y = []\n",
    "            for i in np.arange(len(Results['Bursts'][roi]['Burst Start'])):\n",
    "                start_y.append(Settings['Threshold'])\n",
    "            for i in np.arange(len(Results['Bursts'][roi]['Burst End'])):\n",
    "                end_y.append(Settings['Threshold'])\n",
    "            plt.plot(Results['Bursts'][roi]['Burst Start'], start_y,\n",
    "                     marker='s', color='g', linestyle='None', alpha=1,\n",
    "                     label='Burst Start', markersize=5)\n",
    "            plt.plot(Results['Bursts'][roi]['Burst End'], end_y,\n",
    "                     marker='s', color='y', linestyle='None', alpha=1,\n",
    "                     label='Burst End', markersize=5)\n",
    "\n",
    "        elif Settings['Baseline Type'] == 'linear':\n",
    "            start_y = []\n",
    "            end_y = []\n",
    "            for i in np.arange(len(Results['Bursts'][roi]['Burst Start'])):\n",
    "                start_y.append(Results['Baseline'][roi]*Settings['Threshold'])\n",
    "            for i in np.arange(len(Results['Bursts'][roi]['Burst End'])):\n",
    "                end_y.append(Results['Baseline'][roi]*Settings['Threshold'])\n",
    "            plt.plot(Results['Bursts'][roi]['Burst Start'], start_y,\n",
    "                     marker='s', color='g', linestyle= 'None', alpha=1,\n",
    "                     label='Burst Start', markersize=5)\n",
    "            plt.plot(Results['Bursts'][roi]['Burst End'], end_y,\n",
    "                     marker='s', color='y', linestyle='None', alpha=1,\n",
    "                     label='Burst End', markersize=5)\n",
    "        elif Settings['Baseline Type'] == 'rolling':\n",
    "            plt.plot(Results['Bursts'][roi]['Burst Start'],\n",
    "                     Results['Bursts'][roi]['Burst Start Amplitude'],\n",
    "                     marker='s', color='g', linestyle='None', alpha=1,\n",
    "                     label='Burst Start', markersize=5)\n",
    "            plt.plot(Results['Bursts'][roi]['Burst End'],\n",
    "                     Results['Bursts'][roi]['Burst End Amplitude'],\n",
    "                     marker='s', color='y', linestyle='None', alpha=1,\n",
    "                     label='Burst End', markersize=5)\n",
    "            # in this instance, baseline = rolling average\n",
    "            plt.plot(Results['Baseline-Rolling'][roi].index,\n",
    "                     Results['Baseline-Rolling'][roi], 'b')\n",
    "            plt.plot(Results['Baseline-Rolling'][roi].index,\n",
    "                     Results['Baseline-Rolling'][roi] +\n",
    "                     Settings['Threshold'], 'r')\n",
    "\n",
    "    except:  # this would be the case that no bursts were detected\n",
    "        pass\n",
    "\n",
    "    # LCPRO events\n",
    "    if lcpro is True:\n",
    "        try:\n",
    "            if Settings['Baseline Type'] == 'static' or Settings['Baseline Type'] == 'rolling':\n",
    "                plt.plot(Data['ROI parameters']['Time(s)'].loc[roi],\n",
    "                         Data['ROI parameters']['Amp(F/F0)'].loc[roi],\n",
    "                         marker='o', color='r', linestyle='none',\n",
    "                         alpha=0.4, label='LCPro Peak', markersize=10)\n",
    "            elif Settings['Baseline Type'] == 'linear':\n",
    "                plt.plot(Data['ROI parameters']['Time(s)'].loc[roi],\n",
    "                         (Data['ROI parameters']['Amp(F/F0)'].loc[roi] -\n",
    "                         Results['Baseline'][roi]), marker='o', color='r',\n",
    "                         linestyle='none', alpha=0.4, label='LCPro Peak',\n",
    "                         markersize=10)\n",
    "\n",
    "            plt.vlines(Data['ROI parameters']['Start time (s)'].loc[roi],\n",
    "                       ymin=min(data_temp.min()), ymax=max(data_temp.max()),\n",
    "                       color='r', label='LCpro Boundary')\n",
    "            plt.vlines(Data['ROI parameters']['End time (s)'].loc[roi],\n",
    "                       ymin=min(data_temp.min()), ymax=max(data_temp.max()),\n",
    "                       color='r')\n",
    "            plt.legend()\n",
    "        except:\n",
    "            pass\n",
    "\n",
    "    if mode == 'save':\n",
    "        plt.savefig(r'%s/%s.pdf' % (Settings['plots folder'], roi))\n",
    "        plt.close()\n",
    "    elif mode == 'display':\n",
    "        plt.show()\n",
    "    else:\n",
    "        plt.show()\n",
    "    return\n"
   ]
  },
  {
   "cell_type": "code",
   "execution_count": null,
   "metadata": {
    "collapsed": true
   },
   "outputs": [],
   "source": []
  }
 ],
 "metadata": {
  "kernelspec": {
   "display_name": "Python 3",
   "language": "python",
   "name": "python3"
  },
  "language_info": {
   "codemirror_mode": {
    "name": "ipython",
    "version": 3
   },
   "file_extension": ".py",
   "mimetype": "text/x-python",
   "name": "python",
   "nbconvert_exporter": "python",
   "pygments_lexer": "ipython3",
   "version": "3.6.1"
  }
 },
 "nbformat": 4,
 "nbformat_minor": 1
}
